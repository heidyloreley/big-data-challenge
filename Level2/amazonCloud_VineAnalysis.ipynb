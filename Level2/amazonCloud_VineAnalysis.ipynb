{
  "nbformat": 4,
  "nbformat_minor": 0,
  "metadata": {
    "colab": {
      "name": "amazonCloud_VineAnalysis.ipynb",
      "provenance": [],
      "collapsed_sections": []
    },
    "kernelspec": {
      "name": "python3",
      "display_name": "Python 3"
    }
  },
  "cells": [
    {
      "cell_type": "code",
      "metadata": {
        "id": "uYBbLTh9Omwf",
        "colab_type": "code",
        "colab": {}
      },
      "source": [
        "# Install Java, Spark, and Findspark\n",
        "!apt-get install openjdk-8-jdk-headless -qq > /dev/null\n",
        "!wget -q http://www-us.apache.org/dist/spark/spark-2.4.5/spark-2.4.5-bin-hadoop2.7.tgz\n",
        "!tar xf spark-2.4.5-bin-hadoop2.7.tgz\n",
        "!pip install -q findspark\n",
        "\n",
        "# Set Environment Variables\n",
        "import os\n",
        "os.environ[\"JAVA_HOME\"] = \"/usr/lib/jvm/java-8-openjdk-amd64\"\n",
        "os.environ[\"SPARK_HOME\"] = \"/content/spark-2.4.5-bin-hadoop2.7\"\n",
        "\n",
        "# Start a SparkSession\n",
        "import findspark\n",
        "findspark.init()"
      ],
      "execution_count": 13,
      "outputs": []
    },
    {
      "cell_type": "code",
      "metadata": {
        "id": "dUMPtvDvPJdV",
        "colab_type": "code",
        "colab": {
          "base_uri": "https://localhost:8080/",
          "height": 204
        },
        "outputId": "5470d1d0-81af-4cfe-9cbe-38062d9ce0ef"
      },
      "source": [
        "#Establish connection with  POSTGRES\n",
        "!wget https://jdbc.postgresql.org/download/postgresql-42.2.9.jar"
      ],
      "execution_count": 14,
      "outputs": [
        {
          "output_type": "stream",
          "text": [
            "--2020-06-28 01:24:44--  https://jdbc.postgresql.org/download/postgresql-42.2.9.jar\n",
            "Resolving jdbc.postgresql.org (jdbc.postgresql.org)... 72.32.157.228, 2001:4800:3e1:1::228\n",
            "Connecting to jdbc.postgresql.org (jdbc.postgresql.org)|72.32.157.228|:443... connected.\n",
            "HTTP request sent, awaiting response... 200 OK\n",
            "Length: 914037 (893K) [application/java-archive]\n",
            "Saving to: ‘postgresql-42.2.9.jar.2’\n",
            "\n",
            "\rpostgresql-42.2.9.j   0%[                    ]       0  --.-KB/s               \rpostgresql-42.2.9.j 100%[===================>] 892.61K  4.72MB/s    in 0.2s    \n",
            "\n",
            "2020-06-28 01:24:45 (4.72 MB/s) - ‘postgresql-42.2.9.jar.2’ saved [914037/914037]\n",
            "\n"
          ],
          "name": "stdout"
        }
      ]
    },
    {
      "cell_type": "code",
      "metadata": {
        "id": "v7aL4SfGPLZS",
        "colab_type": "code",
        "colab": {}
      },
      "source": [
        "# Create SparkSession using its connection with Postgres\n",
        "from pyspark.sql import SparkSession\n",
        "spark = SparkSession.builder.appName(\"amazonCloud_VineAnalysis\").config(\"spark.driver.extraClassPath\",\"/content/postgresql-42.2.9.jar\").getOrCreate()"
      ],
      "execution_count": 15,
      "outputs": []
    },
    {
      "cell_type": "markdown",
      "metadata": {
        "id": "PJCXUQodPZcm",
        "colab_type": "text"
      },
      "source": [
        "## Postgres Setup to read DB and Load Table Contents to Spark Dataframe\n",
        "\n"
      ]
    },
    {
      "cell_type": "code",
      "metadata": {
        "id": "ivZzf9eFPgNJ",
        "colab_type": "code",
        "colab": {}
      },
      "source": [
        "# Configure settings for RDS\n",
        "\n",
        "jdbc_url=\"jdbc:postgresql://mypostgresdb.cw6xrdxbjex8.us-east-2.rds.amazonaws.com:5432/bigdataHW_db\" \n",
        "\n",
        "config = {\"user\":\"root\", \"password\":\"basededatos\", \"driver\":\"org.postgresql.Driver\"}"
      ],
      "execution_count": 16,
      "outputs": []
    },
    {
      "cell_type": "markdown",
      "metadata": {
        "id": "zDGEPjKKPpoY",
        "colab_type": "text"
      },
      "source": [
        "Read Sports Tables"
      ]
    },
    {
      "cell_type": "code",
      "metadata": {
        "id": "NpPwsfoOPu8H",
        "colab_type": "code",
        "colab": {}
      },
      "source": [
        "reviewID_sportsDF = spark.read.jdbc(url=jdbc_url, table='review_id_table', properties=config)\n",
        "products_sportsDF = spark.read.jdbc(url=jdbc_url, table='products', properties=config)\n",
        "customers_sportsDF = spark.read.jdbc(url=jdbc_url, table='customers', properties=config)\n",
        "vine_sportsDF = spark.read.jdbc(url=jdbc_url, table='vine_table', properties=config)\n",
        "\n",
        "# reviewID_sportsDF.printSchema()\n",
        "# products_sportsDF.printSchema()\n",
        "# customers_sportsDF.printSchema()\n",
        "# vine_sportsDF.printSchema()"
      ],
      "execution_count": 17,
      "outputs": []
    },
    {
      "cell_type": "markdown",
      "metadata": {
        "id": "lAUBoESSPvS6",
        "colab_type": "text"
      },
      "source": [
        "Read Outdoors Tables"
      ]
    },
    {
      "cell_type": "code",
      "metadata": {
        "id": "A3B43JvYPxkj",
        "colab_type": "code",
        "colab": {
          "base_uri": "https://localhost:8080/",
          "height": 391
        },
        "outputId": "4c417468-87d0-4798-c736-fa6bee594e4f"
      },
      "source": [
        "reviewID_outdoorsDF = spark.read.jdbc(url=jdbc_url, table='review_id_table2', properties=config)\n",
        "products_outdoorsDF = spark.read.jdbc(url=jdbc_url, table='products2', properties=config)\n",
        "customers_outdoorsDF = spark.read.jdbc(url=jdbc_url, table='customers2', properties=config)\n",
        "vine_outdoorsDF = spark.read.jdbc(url=jdbc_url, table='vine_table2', properties=config)\n",
        "\n",
        "reviewID_outdoorsDF.printSchema()\n",
        "products_outdoorsDF.printSchema()\n",
        "customers_outdoorsDF.printSchema()\n",
        "vine_outdoorsDF.printSchema()"
      ],
      "execution_count": 18,
      "outputs": [
        {
          "output_type": "stream",
          "text": [
            "root\n",
            " |-- review_id: string (nullable = true)\n",
            " |-- customer_id: integer (nullable = true)\n",
            " |-- product_id: string (nullable = true)\n",
            " |-- product_parent: integer (nullable = true)\n",
            " |-- review_date: date (nullable = true)\n",
            "\n",
            "root\n",
            " |-- product_id: string (nullable = true)\n",
            " |-- product_title: string (nullable = true)\n",
            "\n",
            "root\n",
            " |-- customer_id: integer (nullable = true)\n",
            " |-- customer_count: integer (nullable = true)\n",
            "\n",
            "root\n",
            " |-- review_id: string (nullable = true)\n",
            " |-- star_rating: integer (nullable = true)\n",
            " |-- helpful_votes: integer (nullable = true)\n",
            " |-- total_votes: integer (nullable = true)\n",
            " |-- vine: string (nullable = true)\n",
            "\n"
          ],
          "name": "stdout"
        }
      ]
    },
    {
      "cell_type": "markdown",
      "metadata": {
        "id": "Q4qWacvsXdhV",
        "colab_type": "text"
      },
      "source": [
        "## OUTDOORS DB ANALYSIS"
      ]
    },
    {
      "cell_type": "markdown",
      "metadata": {
        "id": "lof8FE7kXZzV",
        "colab_type": "text"
      },
      "source": [
        "**1. HOW MANY CUSTOMERS ARE CATEGORIZED AS \"VINE VOICES\" / BELONG TO THE \"VINE PROGRAM\"?**"
      ]
    },
    {
      "cell_type": "code",
      "metadata": {
        "id": "BFokoZTUVRfd",
        "colab_type": "code",
        "colab": {}
      },
      "source": [
        "#Identify reviews categorized as vine \n",
        "from pyspark.sql.functions import col\n",
        "vine_reviews_outdoors = vine_outdoorsDF.filter(col(\"vine\") == \"Y\")\n"
      ],
      "execution_count": 94,
      "outputs": []
    },
    {
      "cell_type": "code",
      "metadata": {
        "id": "ze84D995YSTb",
        "colab_type": "code",
        "colab": {}
      },
      "source": [
        "# Join DFs of reviews\n",
        "review_vine_OutDf= vine_reviews_outdoors.join(reviewID_outdoorsDF, on=\"review_id\", how=\"inner\")"
      ],
      "execution_count": 95,
      "outputs": []
    },
    {
      "cell_type": "code",
      "metadata": {
        "id": "nxw0RPhnd7s7",
        "colab_type": "code",
        "colab": {
          "base_uri": "https://localhost:8080/",
          "height": 187
        },
        "outputId": "2905ed65-b06b-4353-85f1-7437f83d7515"
      },
      "source": [
        "# Join DFs of reviews and customers\n",
        "review_vine_customers_OutDf= review_vine_OutDf.join(customers_outdoorsDF, on=\"customer_id\", how=\"inner\")\n",
        "# print(review_vine_customers_OutDf.count())\n",
        "# review_vine_customers_OutDf.show(10, truncate=False)\n",
        "review_vine_customers_OutDf.columns"
      ],
      "execution_count": 96,
      "outputs": [
        {
          "output_type": "execute_result",
          "data": {
            "text/plain": [
              "['customer_id',\n",
              " 'review_id',\n",
              " 'star_rating',\n",
              " 'helpful_votes',\n",
              " 'total_votes',\n",
              " 'vine',\n",
              " 'product_id',\n",
              " 'product_parent',\n",
              " 'review_date',\n",
              " 'customer_count']"
            ]
          },
          "metadata": {
            "tags": []
          },
          "execution_count": 96
        }
      ]
    },
    {
      "cell_type": "code",
      "metadata": {
        "id": "QeKNq7HHgjaq",
        "colab_type": "code",
        "colab": {
          "base_uri": "https://localhost:8080/",
          "height": 34
        },
        "outputId": "26fb2165-b7d9-430b-9bd2-6bcd97bbc375"
      },
      "source": [
        "vine_customers_Outdoors = review_vine_customers_OutDf.groupBy(\"customer_id\").count()\n",
        "\n",
        "print(f\"Total of customers belonging to the Vine Program (for outdoors products reviews): {vine_customers_Outdoors.count()}\")"
      ],
      "execution_count": 97,
      "outputs": [
        {
          "output_type": "stream",
          "text": [
            "Total of customers belonging to the Vine Program (for outdoors products reviews): 1773\n"
          ],
          "name": "stdout"
        }
      ]
    },
    {
      "cell_type": "markdown",
      "metadata": {
        "id": "Xr4_uTafi2US",
        "colab_type": "text"
      },
      "source": [
        "**2. WHO ARE THE TOP 20 VINE CUSTOMERS WITH MORE REVIEWS?**"
      ]
    },
    {
      "cell_type": "code",
      "metadata": {
        "id": "oMbKSk86jCT2",
        "colab_type": "code",
        "colab": {
          "base_uri": "https://localhost:8080/",
          "height": 442
        },
        "outputId": "a6c0b24f-2d95-4e18-e481-6efd37a91f72"
      },
      "source": [
        "from pyspark.sql.functions import desc\n",
        "vine_customers_OutdoorsTop20 = vine_customers_Outdoors.orderBy(vine_customers_Outdoors[\"count\"].desc()).limit(20).show(truncate = False)"
      ],
      "execution_count": 98,
      "outputs": [
        {
          "output_type": "stream",
          "text": [
            "+-----------+-----+\n",
            "|customer_id|count|\n",
            "+-----------+-----+\n",
            "|48428870   |9    |\n",
            "|50272083   |9    |\n",
            "|13722260   |8    |\n",
            "|38232031   |8    |\n",
            "|31302915   |8    |\n",
            "|49346733   |8    |\n",
            "|45351550   |8    |\n",
            "|36695257   |8    |\n",
            "|29531597   |8    |\n",
            "|11556116   |8    |\n",
            "|38462413   |8    |\n",
            "|49299352   |7    |\n",
            "|51624877   |7    |\n",
            "|50760025   |7    |\n",
            "|21084288   |7    |\n",
            "|49980229   |7    |\n",
            "|51409121   |7    |\n",
            "|40013398   |7    |\n",
            "|21028674   |7    |\n",
            "|52536258   |6    |\n",
            "+-----------+-----+\n",
            "\n"
          ],
          "name": "stdout"
        }
      ]
    },
    {
      "cell_type": "markdown",
      "metadata": {
        "id": "Y5Ml-BeqnBCt",
        "colab_type": "text"
      },
      "source": [
        "**3. WHAT IS THE AVERAGE STAR RATINGS FOR THE TOP 20 CUSTOMERS WITH MORE REVIEWS?**"
      ]
    },
    {
      "cell_type": "code",
      "metadata": {
        "id": "epyiIebSsa95",
        "colab_type": "code",
        "colab": {
          "base_uri": "https://localhost:8080/",
          "height": 442
        },
        "outputId": "d4ab8dd1-5f33-4b1f-a20a-a2470f4b2997"
      },
      "source": [
        "#Average Star rating of Top 20 vine customers with more reviews\n",
        "from pyspark.sql.functions import format_number\n",
        "\n",
        "vine_customers_rates_Outdoor = review_vine_customers_OutDf.groupBy(\"customer_id\").agg({\"review_id\":\"count\",\"star_rating\": \"avg\" })\n",
        "\n",
        "vine_customers_rates_Outdoor.orderBy(col(\"count(review_id)\").desc()).select(\"customer_id\",\"count(review_id)\",(format_number(\"avg(star_rating)\",2).alias (\"AVG Star Rating\"))).limit(20).show(truncate = False)"
      ],
      "execution_count": 99,
      "outputs": [
        {
          "output_type": "stream",
          "text": [
            "+-----------+----------------+---------------+\n",
            "|customer_id|count(review_id)|AVG Star Rating|\n",
            "+-----------+----------------+---------------+\n",
            "|48428870   |9               |5.00           |\n",
            "|50272083   |9               |3.89           |\n",
            "|13722260   |8               |4.12           |\n",
            "|38232031   |8               |4.75           |\n",
            "|31302915   |8               |4.62           |\n",
            "|49346733   |8               |3.75           |\n",
            "|45351550   |8               |4.62           |\n",
            "|36695257   |8               |4.38           |\n",
            "|29531597   |8               |4.50           |\n",
            "|11556116   |8               |4.38           |\n",
            "|38462413   |8               |3.25           |\n",
            "|49299352   |7               |4.43           |\n",
            "|51624877   |7               |4.43           |\n",
            "|50760025   |7               |3.71           |\n",
            "|21084288   |7               |4.14           |\n",
            "|49980229   |7               |4.29           |\n",
            "|51409121   |7               |3.71           |\n",
            "|40013398   |7               |4.71           |\n",
            "|21028674   |7               |4.29           |\n",
            "|52536258   |6               |4.67           |\n",
            "+-----------+----------------+---------------+\n",
            "\n"
          ],
          "name": "stdout"
        }
      ]
    },
    {
      "cell_type": "markdown",
      "metadata": {
        "id": "Ug3-xUez1_S7",
        "colab_type": "text"
      },
      "source": [
        "**4. WHAT IS THE AVERAGE STAR RATING FOR THE CUSTOMER WITH THE MOST HELPFUL VOTES?**"
      ]
    },
    {
      "cell_type": "code",
      "metadata": {
        "id": "vkWaMkW54HYZ",
        "colab_type": "code",
        "colab": {
          "base_uri": "https://localhost:8080/",
          "height": 119
        },
        "outputId": "dd838fa6-19ce-46de-993e-37963d5daff2"
      },
      "source": [
        "vine_customers_helpvotes_Outdoor = review_vine_customers_OutDf.groupBy(\"customer_id\").agg({\"helpful_votes\":\"sum\",\"star_rating\": \"avg\" })\n",
        "vine_customers_helpvotes_Outdoor.orderBy(vine_customers_helpvotes_Outdoor[\"sum(helpful_votes)\"].desc()).limit(1).show(truncate = False)"
      ],
      "execution_count": 101,
      "outputs": [
        {
          "output_type": "stream",
          "text": [
            "+-----------+----------------+------------------+\n",
            "|customer_id|avg(star_rating)|sum(helpful_votes)|\n",
            "+-----------+----------------+------------------+\n",
            "|45351550   |4.625           |474               |\n",
            "+-----------+----------------+------------------+\n",
            "\n"
          ],
          "name": "stdout"
        }
      ]
    },
    {
      "cell_type": "markdown",
      "metadata": {
        "id": "8uiiHI3J4hUh",
        "colab_type": "text"
      },
      "source": [
        "**5. WHAT IS THE AVERAGE STAR RATING OF THE VINE CUSTOMER WITH LESS REVIEWS AND HOW MANY HELPFUL AND TOTAL VOTES HAS?**"
      ]
    },
    {
      "cell_type": "code",
      "metadata": {
        "id": "DrpehxS-7Juy",
        "colab_type": "code",
        "colab": {
          "base_uri": "https://localhost:8080/",
          "height": 119
        },
        "outputId": "2d6fda9a-b901-411b-9f5a-d3a44a464c31"
      },
      "source": [
        "vine_customers_Outdoor_TtlInfo= review_vine_customers_OutDf.groupBy(\"customer_id\").agg({\"review_id\":\"count\",\"total_votes\":\"sum\",\"helpful_votes\":\"sum\",\"star_rating\": \"avg\" })\n",
        "vine_customers_Outdoor_TtlInfo.orderBy(\"count(review_id)\").orderBy(\"sum(helpful_votes)\").limit(1).show()\n"
      ],
      "execution_count": 102,
      "outputs": [
        {
          "output_type": "stream",
          "text": [
            "+-----------+----------------+----------------+----------------+------------------+\n",
            "|customer_id|count(review_id)|sum(total_votes)|avg(star_rating)|sum(helpful_votes)|\n",
            "+-----------+----------------+----------------+----------------+------------------+\n",
            "|   38679000|               1|               1|             5.0|                 0|\n",
            "+-----------+----------------+----------------+----------------+------------------+\n",
            "\n"
          ],
          "name": "stdout"
        }
      ]
    }
  ]
}