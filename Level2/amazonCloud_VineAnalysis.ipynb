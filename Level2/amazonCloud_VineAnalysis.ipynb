{
  "nbformat": 4,
  "nbformat_minor": 0,
  "metadata": {
    "colab": {
      "name": "amazonCloud_VineAnalysis.ipynb",
      "provenance": [],
      "collapsed_sections": []
    },
    "kernelspec": {
      "name": "python3",
      "display_name": "Python 3"
    }
  },
  "cells": [
    {
      "cell_type": "code",
      "metadata": {
        "id": "uYBbLTh9Omwf",
        "colab_type": "code",
        "colab": {}
      },
      "source": [
        "# Install Java, Spark, and Findspark\n",
        "!apt-get install openjdk-8-jdk-headless -qq > /dev/null\n",
        "!wget -q http://www-us.apache.org/dist/spark/spark-2.4.5/spark-2.4.5-bin-hadoop2.7.tgz\n",
        "!tar xf spark-2.4.5-bin-hadoop2.7.tgz\n",
        "!pip install -q findspark\n",
        "\n",
        "# Set Environment Variables\n",
        "import os\n",
        "os.environ[\"JAVA_HOME\"] = \"/usr/lib/jvm/java-8-openjdk-amd64\"\n",
        "os.environ[\"SPARK_HOME\"] = \"/content/spark-2.4.5-bin-hadoop2.7\"\n",
        "\n",
        "# Start a SparkSession\n",
        "import findspark\n",
        "findspark.init()"
      ],
      "execution_count": 1,
      "outputs": []
    },
    {
      "cell_type": "code",
      "metadata": {
        "id": "dUMPtvDvPJdV",
        "colab_type": "code",
        "colab": {
          "base_uri": "https://localhost:8080/",
          "height": 204
        },
        "outputId": "1ed707ec-0f16-47ca-8c9b-9f9f4962c650"
      },
      "source": [
        "#Establish connection with  POSTGRES\n",
        "!wget https://jdbc.postgresql.org/download/postgresql-42.2.9.jar"
      ],
      "execution_count": 2,
      "outputs": [
        {
          "output_type": "stream",
          "text": [
            "--2020-06-28 09:02:44--  https://jdbc.postgresql.org/download/postgresql-42.2.9.jar\n",
            "Resolving jdbc.postgresql.org (jdbc.postgresql.org)... 72.32.157.228, 2001:4800:3e1:1::228\n",
            "Connecting to jdbc.postgresql.org (jdbc.postgresql.org)|72.32.157.228|:443... connected.\n",
            "HTTP request sent, awaiting response... 200 OK\n",
            "Length: 914037 (893K) [application/java-archive]\n",
            "Saving to: ‘postgresql-42.2.9.jar.1’\n",
            "\n",
            "\rpostgresql-42.2.9.j   0%[                    ]       0  --.-KB/s               \rpostgresql-42.2.9.j 100%[===================>] 892.61K  4.77MB/s    in 0.2s    \n",
            "\n",
            "2020-06-28 09:02:45 (4.77 MB/s) - ‘postgresql-42.2.9.jar.1’ saved [914037/914037]\n",
            "\n"
          ],
          "name": "stdout"
        }
      ]
    },
    {
      "cell_type": "code",
      "metadata": {
        "id": "v7aL4SfGPLZS",
        "colab_type": "code",
        "colab": {}
      },
      "source": [
        "# Create SparkSession using its connection with Postgres\n",
        "from pyspark.sql import SparkSession\n",
        "spark = SparkSession.builder.appName(\"amazonCloud_VineAnalysis\").config(\"spark.driver.extraClassPath\",\"/content/postgresql-42.2.9.jar\").getOrCreate()"
      ],
      "execution_count": 3,
      "outputs": []
    },
    {
      "cell_type": "markdown",
      "metadata": {
        "id": "PJCXUQodPZcm",
        "colab_type": "text"
      },
      "source": [
        "## Postgres Setup to read DB and Load Table Contents to Spark Dataframe\n",
        "\n"
      ]
    },
    {
      "cell_type": "code",
      "metadata": {
        "id": "ivZzf9eFPgNJ",
        "colab_type": "code",
        "colab": {}
      },
      "source": [
        "# Configure settings for RDS\n",
        "\n",
        "jdbc_url=\"jdbc:postgresql://mypostgresdb.cw6xrdxbjex8.us-east-2.rds.amazonaws.com:5432/bigdataHW_db\" \n",
        "\n",
        "config = {\"user\":\"root\", \"password\":\"basededatos\", \"driver\":\"org.postgresql.Driver\"}"
      ],
      "execution_count": 4,
      "outputs": []
    },
    {
      "cell_type": "markdown",
      "metadata": {
        "id": "zDGEPjKKPpoY",
        "colab_type": "text"
      },
      "source": [
        "Read Sports Tables"
      ]
    },
    {
      "cell_type": "code",
      "metadata": {
        "id": "NpPwsfoOPu8H",
        "colab_type": "code",
        "colab": {}
      },
      "source": [
        "reviewID_sportsDF = spark.read.jdbc(url=jdbc_url, table='review_id_table', properties=config)\n",
        "products_sportsDF = spark.read.jdbc(url=jdbc_url, table='products', properties=config)\n",
        "customers_sportsDF = spark.read.jdbc(url=jdbc_url, table='customers', properties=config)\n",
        "vine_sportsDF = spark.read.jdbc(url=jdbc_url, table='vine_table', properties=config)\n",
        "\n",
        "# reviewID_sportsDF.printSchema()\n",
        "# products_sportsDF.printSchema()\n",
        "# customers_sportsDF.printSchema()\n",
        "# vine_sportsDF.printSchema()"
      ],
      "execution_count": 5,
      "outputs": []
    },
    {
      "cell_type": "markdown",
      "metadata": {
        "id": "lAUBoESSPvS6",
        "colab_type": "text"
      },
      "source": [
        "Read Outdoors Tables"
      ]
    },
    {
      "cell_type": "code",
      "metadata": {
        "id": "A3B43JvYPxkj",
        "colab_type": "code",
        "colab": {}
      },
      "source": [
        "reviewID_outdoorsDF = spark.read.jdbc(url=jdbc_url, table='review_id_table2', properties=config)\n",
        "products_outdoorsDF = spark.read.jdbc(url=jdbc_url, table='products2', properties=config)\n",
        "customers_outdoorsDF = spark.read.jdbc(url=jdbc_url, table='customers2', properties=config)\n",
        "vine_outdoorsDF = spark.read.jdbc(url=jdbc_url, table='vine_table2', properties=config)\n",
        "\n",
        "# reviewID_outdoorsDF.printSchema()\n",
        "# products_outdoorsDF.printSchema()\n",
        "# customers_outdoorsDF.printSchema()\n",
        "# vine_outdoorsDF.printSchema()"
      ],
      "execution_count": 6,
      "outputs": []
    },
    {
      "cell_type": "markdown",
      "metadata": {
        "id": "Q4qWacvsXdhV",
        "colab_type": "text"
      },
      "source": [
        "## OUTDOORS DB ANALYSIS"
      ]
    },
    {
      "cell_type": "code",
      "metadata": {
        "id": "j_SOoEdQYIab",
        "colab_type": "code",
        "colab": {
          "base_uri": "https://localhost:8080/",
          "height": 153
        },
        "outputId": "104ac1ce-a00d-41f1-80d9-ecca49e8775a"
      },
      "source": [
        "print(vine_outdoorsDF.count())\n",
        "vine_outdoorsDF.select(\"vine\").distinct().show()"
      ],
      "execution_count": 7,
      "outputs": [
        {
          "output_type": "stream",
          "text": [
            "2302173\n",
            "+----+\n",
            "|vine|\n",
            "+----+\n",
            "|   Y|\n",
            "|   N|\n",
            "+----+\n",
            "\n"
          ],
          "name": "stdout"
        }
      ]
    },
    {
      "cell_type": "code",
      "metadata": {
        "id": "Qws1xB_sV7AE",
        "colab_type": "code",
        "colab": {
          "base_uri": "https://localhost:8080/",
          "height": 34
        },
        "outputId": "770bd32b-f716-4d05-a69d-55fe856805f7"
      },
      "source": [
        "#Identify reviews categorized as vine \n",
        "from pyspark.sql.functions import col\n",
        "vine_reviews_outdoors = vine_outdoorsDF.filter(col(\"vine\") == \"Y\")\n",
        "print(f\"Total reviews categorized as vine: {vine_reviews_outdoors.count()}\")\n",
        "# vine_reviews_outdoors.show(10, truncate=False)"
      ],
      "execution_count": 8,
      "outputs": [
        {
          "output_type": "stream",
          "text": [
            "Total reviews categorized as vine: 3137\n"
          ],
          "name": "stdout"
        }
      ]
    },
    {
      "cell_type": "code",
      "metadata": {
        "id": "ExJeWfPSA7Mc",
        "colab_type": "code",
        "colab": {
          "base_uri": "https://localhost:8080/",
          "height": 34
        },
        "outputId": "c823a4b3-f67d-46c0-f7bc-c2b2ef1e614c"
      },
      "source": [
        "print(f\"Percentage of vine reviews among all sports reviews: {round((vine_reviews_outdoors.count()/vine_outdoorsDF.count())*100,2)}%\")"
      ],
      "execution_count": 9,
      "outputs": [
        {
          "output_type": "stream",
          "text": [
            "Percentage of vine reviews among all sports reviews: 0.14%\n"
          ],
          "name": "stdout"
        }
      ]
    },
    {
      "cell_type": "code",
      "metadata": {
        "id": "HsyswuLSV69P",
        "colab_type": "code",
        "colab": {}
      },
      "source": [
        "# Join DFs of reviews\n",
        "review_vine_OutDf= vine_reviews_outdoors.join(reviewID_outdoorsDF, on=\"review_id\", how=\"inner\")\n",
        "# review_vine_OutDf.show(10, truncate=False)"
      ],
      "execution_count": 10,
      "outputs": []
    },
    {
      "cell_type": "code",
      "metadata": {
        "id": "MubFcYefWDCy",
        "colab_type": "code",
        "colab": {}
      },
      "source": [
        "# Join DFs of reviews and customers\n",
        "review_vine_customers_OutDf= review_vine_OutDf.join(customers_outdoorsDF, on=\"customer_id\", how=\"inner\")\n",
        "# review_vine_customers_OutDf.show(10, truncate=False)\n",
        "# review_vine_customers_OutDf.columns"
      ],
      "execution_count": 11,
      "outputs": []
    },
    {
      "cell_type": "code",
      "metadata": {
        "id": "XKBKZesU_KE1",
        "colab_type": "code",
        "colab": {
          "base_uri": "https://localhost:8080/",
          "height": 391
        },
        "outputId": "239adeac-c7d5-434b-f823-1de306354073"
      },
      "source": [
        "# Dataframe of Outdoor Products by Customer\n",
        "\n",
        "vine_customers_Outdoor_TtlInfo= review_vine_customers_OutDf.groupBy(\"customer_id\").agg({\"review_id\":\"count\",\"total_votes\":\"sum\",\"helpful_votes\":\"sum\",\"star_rating\": \"avg\",\"product_id\":\"count\"})\n",
        "vine_customers_Outdoor_TtlInfo.show(5)\n",
        "vine_customers_Outdoor_TtlInfo2 = vine_customers_Outdoor_TtlInfo.toDF(\"Customer ID\", \"Total Reviews\", \"Helpful votes\", \"Average Star Rating\", \"Total Products reviewed\", \"Total Votes\")\n",
        "vine_customers_Outdoor_TtlInfo2.show(5)"
      ],
      "execution_count": 12,
      "outputs": [
        {
          "output_type": "stream",
          "text": [
            "+-----------+----------------+------------------+------------------+-----------------+----------------+\n",
            "|customer_id|count(review_id)|sum(helpful_votes)|  avg(star_rating)|count(product_id)|sum(total_votes)|\n",
            "+-----------+----------------+------------------+------------------+-----------------+----------------+\n",
            "|   17481726|               3|                12|3.6666666666666665|                3|              13|\n",
            "|   18800155|               2|                 1|               4.0|                2|               2|\n",
            "|   38679000|               1|                 0|               5.0|                1|               1|\n",
            "|   41549558|               5|                 3|               5.0|                5|               6|\n",
            "|   49214860|               3|               123|               4.0|                3|             125|\n",
            "+-----------+----------------+------------------+------------------+-----------------+----------------+\n",
            "only showing top 5 rows\n",
            "\n",
            "+-----------+-------------+-------------+-------------------+-----------------------+-----------+\n",
            "|Customer ID|Total Reviews|Helpful votes|Average Star Rating|Total Products reviewed|Total Votes|\n",
            "+-----------+-------------+-------------+-------------------+-----------------------+-----------+\n",
            "|   17481726|            3|           12| 3.6666666666666665|                      3|         13|\n",
            "|   18800155|            2|            1|                4.0|                      2|          2|\n",
            "|   38679000|            1|            0|                5.0|                      1|          1|\n",
            "|   41549558|            5|            3|                5.0|                      5|          6|\n",
            "|   49214860|            3|          123|                4.0|                      3|        125|\n",
            "+-----------+-------------+-------------+-------------------+-----------------------+-----------+\n",
            "only showing top 5 rows\n",
            "\n"
          ],
          "name": "stdout"
        }
      ]
    },
    {
      "cell_type": "markdown",
      "metadata": {
        "id": "elKR8I7iaM1O",
        "colab_type": "text"
      },
      "source": [
        "**1. HOW MANY CUSTOMERS ARE CATEGORIZED AS \"VINE VOICES\" / BELONG TO THE \"VINE PROGRAM\"?**"
      ]
    },
    {
      "cell_type": "code",
      "metadata": {
        "id": "r_lhfDS79QL0",
        "colab_type": "code",
        "colab": {
          "base_uri": "https://localhost:8080/",
          "height": 34
        },
        "outputId": "c024a356-4397-49f2-cb4a-99c1f31d7ff2"
      },
      "source": [
        "# total vine customers\n",
        "vine_customers_Outdoor_TtlInfo2.cache()\n",
        "print(f\"Total of customers belonging to the Vine Program (for outdoors products reviews): {vine_customers_Outdoor_TtlInfo2.count()}\")"
      ],
      "execution_count": 13,
      "outputs": [
        {
          "output_type": "stream",
          "text": [
            "Total of customers belonging to the Vine Program (for outdoors products reviews): 1773\n"
          ],
          "name": "stdout"
        }
      ]
    },
    {
      "cell_type": "markdown",
      "metadata": {
        "id": "9IxtHo8Ca6MU",
        "colab_type": "text"
      },
      "source": [
        "**2. WHO ARE THE TOP 20 VINE CUSTOMERS WITH MORE REVIEWS?**"
      ]
    },
    {
      "cell_type": "code",
      "metadata": {
        "id": "SW39Awd_-HB3",
        "colab_type": "code",
        "colab": {
          "base_uri": "https://localhost:8080/",
          "height": 442
        },
        "outputId": "5c5df91f-ffae-431c-bdfb-79f29bd504bd"
      },
      "source": [
        "#TOP 20 Vine Customers with more reviews\n",
        "from pyspark.sql.functions import desc\n",
        "vine_customers_Outdoor_TtlInfo2.orderBy(vine_customers_Outdoor_TtlInfo2[\"Total Reviews\"].desc()).select(\"Customer ID\",\"Total Reviews\").limit(20).show()"
      ],
      "execution_count": 14,
      "outputs": [
        {
          "output_type": "stream",
          "text": [
            "+-----------+-------------+\n",
            "|Customer ID|Total Reviews|\n",
            "+-----------+-------------+\n",
            "|   48428870|            9|\n",
            "|   50272083|            9|\n",
            "|   13722260|            8|\n",
            "|   38232031|            8|\n",
            "|   31302915|            8|\n",
            "|   49346733|            8|\n",
            "|   45351550|            8|\n",
            "|   36695257|            8|\n",
            "|   29531597|            8|\n",
            "|   11556116|            8|\n",
            "|   38462413|            8|\n",
            "|   49299352|            7|\n",
            "|   51624877|            7|\n",
            "|   50760025|            7|\n",
            "|   21084288|            7|\n",
            "|   49980229|            7|\n",
            "|   51409121|            7|\n",
            "|   40013398|            7|\n",
            "|   21028674|            7|\n",
            "|   52536258|            6|\n",
            "+-----------+-------------+\n",
            "\n"
          ],
          "name": "stdout"
        }
      ]
    },
    {
      "cell_type": "markdown",
      "metadata": {
        "id": "agiC9NcGbOiL",
        "colab_type": "text"
      },
      "source": [
        "**3. WHAT IS THE AVERAGE STAR RATINGS FOR THE TOP 20 CUSTOMERS WITH MORE REVIEWS?**"
      ]
    },
    {
      "cell_type": "code",
      "metadata": {
        "id": "PGVycjZ9-2Ys",
        "colab_type": "code",
        "colab": {
          "base_uri": "https://localhost:8080/",
          "height": 442
        },
        "outputId": "970bfee6-2e79-4500-dd8d-0f77e2e4df70"
      },
      "source": [
        "#Average Star Ratings for Top 20 vine customers\n",
        "vine_customers_Outdoor_TtlInfo2.orderBy(vine_customers_Outdoor_TtlInfo2[\"Total Reviews\"].desc()).select(\"Customer ID\",\"Total Reviews\", \"Average Star Rating\").limit(20).show()"
      ],
      "execution_count": 15,
      "outputs": [
        {
          "output_type": "stream",
          "text": [
            "+-----------+-------------+-------------------+\n",
            "|Customer ID|Total Reviews|Average Star Rating|\n",
            "+-----------+-------------+-------------------+\n",
            "|   48428870|            9|                5.0|\n",
            "|   50272083|            9|  3.888888888888889|\n",
            "|   13722260|            8|              4.125|\n",
            "|   38232031|            8|               4.75|\n",
            "|   31302915|            8|              4.625|\n",
            "|   49346733|            8|               3.75|\n",
            "|   45351550|            8|              4.625|\n",
            "|   36695257|            8|              4.375|\n",
            "|   29531597|            8|                4.5|\n",
            "|   11556116|            8|              4.375|\n",
            "|   38462413|            8|               3.25|\n",
            "|   49299352|            7|  4.428571428571429|\n",
            "|   51624877|            7|  4.428571428571429|\n",
            "|   50760025|            7| 3.7142857142857144|\n",
            "|   21084288|            7|  4.142857142857143|\n",
            "|   49980229|            7|  4.285714285714286|\n",
            "|   51409121|            7| 3.7142857142857144|\n",
            "|   40013398|            7|  4.714285714285714|\n",
            "|   21028674|            7|  4.285714285714286|\n",
            "|   52536258|            6|  4.666666666666667|\n",
            "+-----------+-------------+-------------------+\n",
            "\n"
          ],
          "name": "stdout"
        }
      ]
    },
    {
      "cell_type": "markdown",
      "metadata": {
        "id": "KM0w_n-7bx7A",
        "colab_type": "text"
      },
      "source": [
        "**4. WHAT IS THE AVERAGE STAR RATING FOR THE VINE CUSTOMER WITH THE MOST HELPFUL VOTES?**"
      ]
    },
    {
      "cell_type": "code",
      "metadata": {
        "id": "3oGKcZ5Ab1P_",
        "colab_type": "code",
        "colab": {
          "base_uri": "https://localhost:8080/",
          "height": 119
        },
        "outputId": "1dbd6555-bde2-46fc-ab17-0bf61d9fcf8d"
      },
      "source": [
        "vine_customers_Outdoor_TtlInfo2.orderBy(vine_customers_Outdoor_TtlInfo2[\"Helpful votes\"].desc()).select(\"Customer ID\",\"Helpful votes\",\"Average Star Rating\").limit(1).show()"
      ],
      "execution_count": 16,
      "outputs": [
        {
          "output_type": "stream",
          "text": [
            "+-----------+-------------+-------------------+\n",
            "|Customer ID|Helpful votes|Average Star Rating|\n",
            "+-----------+-------------+-------------------+\n",
            "|   45351550|          474|              4.625|\n",
            "+-----------+-------------+-------------------+\n",
            "\n"
          ],
          "name": "stdout"
        }
      ]
    },
    {
      "cell_type": "markdown",
      "metadata": {
        "id": "V0HCACwXc99-",
        "colab_type": "text"
      },
      "source": [
        "**5. WHAT IS THE AVERAGE STAR RATING OF THE VINE CUSTOMER WITH LESS REVIEWS AND HOW MANY HELPFUL AND TOTAL VOTES HAS?**"
      ]
    },
    {
      "cell_type": "code",
      "metadata": {
        "id": "x_oNt-WZdGo0",
        "colab_type": "code",
        "colab": {
          "base_uri": "https://localhost:8080/",
          "height": 119
        },
        "outputId": "a2a3fcaf-be4b-4b5b-a44f-8b8fc0eee3dc"
      },
      "source": [
        "vine_customers_Outdoor_TtlInfo2.orderBy(\"Total Reviews\").limit(1).show()"
      ],
      "execution_count": 17,
      "outputs": [
        {
          "output_type": "stream",
          "text": [
            "+-----------+-------------+-------------+-------------------+-----------------------+-----------+\n",
            "|Customer ID|Total Reviews|Helpful votes|Average Star Rating|Total Products reviewed|Total Votes|\n",
            "+-----------+-------------+-------------+-------------------+-----------------------+-----------+\n",
            "|   38679000|            1|            0|                5.0|                      1|          1|\n",
            "+-----------+-------------+-------------+-------------------+-----------------------+-----------+\n",
            "\n"
          ],
          "name": "stdout"
        }
      ]
    },
    {
      "cell_type": "markdown",
      "metadata": {
        "id": "TObJJDFoeVA1",
        "colab_type": "text"
      },
      "source": [
        "## SPORTS DB ANALYSIS"
      ]
    },
    {
      "cell_type": "code",
      "metadata": {
        "id": "ccFtn0Ehe8R8",
        "colab_type": "code",
        "colab": {
          "base_uri": "https://localhost:8080/",
          "height": 34
        },
        "outputId": "50b2b78a-fcc2-4512-db8a-3cbc28973582"
      },
      "source": [
        "#Identify reviews categorized as vine \n",
        "from pyspark.sql.functions import col\n",
        "vine_reviews_sports = vine_sportsDF.filter(col(\"vine\") == \"Y\")\n",
        "\n",
        "print(f\"Total reviews categorized as vine: {vine_reviews_sports.count()}\")\n",
        "# vine_reviews_sports.show(10, truncate=False)"
      ],
      "execution_count": 18,
      "outputs": [
        {
          "output_type": "stream",
          "text": [
            "Total reviews categorized as vine: 10080\n"
          ],
          "name": "stdout"
        }
      ]
    },
    {
      "cell_type": "code",
      "metadata": {
        "id": "YJC_bbiAfLSS",
        "colab_type": "code",
        "colab": {
          "base_uri": "https://localhost:8080/",
          "height": 34
        },
        "outputId": "b1ec9e6b-94b7-4b60-96e7-2645eb01fb43"
      },
      "source": [
        "print(f\"Percentage of vine reviews among all sports reviews: {round((vine_reviews_sports.count()/vine_sportsDF.count())*100,2)}%\")"
      ],
      "execution_count": 19,
      "outputs": [
        {
          "output_type": "stream",
          "text": [
            "Percentage of vine reviews among all sports reviews: 0.21%\n"
          ],
          "name": "stdout"
        }
      ]
    },
    {
      "cell_type": "code",
      "metadata": {
        "id": "k3ik-j0Tgo2a",
        "colab_type": "code",
        "colab": {}
      },
      "source": [
        "# Join DFs of reviews\n",
        "review_vine_SportDf= vine_reviews_sports.join(reviewID_sportsDF, on=\"review_id\", how=\"inner\")\n",
        "# review_vine_SportDf.show(10, truncate=False)"
      ],
      "execution_count": 20,
      "outputs": []
    },
    {
      "cell_type": "code",
      "metadata": {
        "id": "AAlx46hvhDRx",
        "colab_type": "code",
        "colab": {}
      },
      "source": [
        "# Join DFs of reviews and customers\n",
        "review_vine_customers_SportsDf= review_vine_SportDf.join(customers_sportsDF, on=\"customer_id\", how=\"inner\")\n",
        "\n",
        "# review_vine_customers_SportsDf.show(10, truncate=False)\n",
        "# review_vine_customers_SportsDf.columns"
      ],
      "execution_count": 21,
      "outputs": []
    },
    {
      "cell_type": "code",
      "metadata": {
        "id": "YaemuQm4hWwd",
        "colab_type": "code",
        "colab": {
          "base_uri": "https://localhost:8080/",
          "height": 391
        },
        "outputId": "7dac3fc2-680e-4e86-b51c-1686da671b0d"
      },
      "source": [
        "# Dataframe of Sports Products by Customer\n",
        "\n",
        "vine_customers_Sports_TtlInfo= review_vine_customers_SportsDf.groupBy(\"customer_id\").agg({\"review_id\":\"count\",\"total_votes\":\"sum\",\"helpful_votes\":\"sum\",\"star_rating\": \"avg\",\"product_id\":\"count\"})\n",
        "vine_customers_Sports_TtlInfo.show(5)\n",
        "vine_customers_Sports_TtlInfo2 = vine_customers_Sports_TtlInfo.toDF(\"Customer ID\", \"Total Reviews\", \"Helpful votes\", \"Average Star Rating\", \"Total Products reviewed\", \"Total Votes\")\n",
        "vine_customers_Sports_TtlInfo2.show(5)"
      ],
      "execution_count": 22,
      "outputs": [
        {
          "output_type": "stream",
          "text": [
            "+-----------+----------------+------------------+-----------------+-----------------+----------------+\n",
            "|customer_id|count(review_id)|sum(helpful_votes)| avg(star_rating)|count(product_id)|sum(total_votes)|\n",
            "+-----------+----------------+------------------+-----------------+-----------------+----------------+\n",
            "|   17171509|               1|                 1|              5.0|                1|               2|\n",
            "|   17481726|               5|                16|              4.0|                5|              20|\n",
            "|   18800155|               2|                 0|              5.0|                2|               0|\n",
            "|   22978817|               7|                 5|4.285714285714286|                7|               9|\n",
            "|   38679000|               3|                 0|4.666666666666667|                3|               2|\n",
            "+-----------+----------------+------------------+-----------------+-----------------+----------------+\n",
            "only showing top 5 rows\n",
            "\n",
            "+-----------+-------------+-------------+-------------------+-----------------------+-----------+\n",
            "|Customer ID|Total Reviews|Helpful votes|Average Star Rating|Total Products reviewed|Total Votes|\n",
            "+-----------+-------------+-------------+-------------------+-----------------------+-----------+\n",
            "|   17171509|            1|            1|                5.0|                      1|          2|\n",
            "|   17481726|            5|           16|                4.0|                      5|         20|\n",
            "|   18800155|            2|            0|                5.0|                      2|          0|\n",
            "|   22978817|            7|            5|  4.285714285714286|                      7|          9|\n",
            "|   38679000|            3|            0|  4.666666666666667|                      3|          2|\n",
            "+-----------+-------------+-------------+-------------------+-----------------------+-----------+\n",
            "only showing top 5 rows\n",
            "\n"
          ],
          "name": "stdout"
        }
      ]
    },
    {
      "cell_type": "markdown",
      "metadata": {
        "id": "7Yd5U082iydU",
        "colab_type": "text"
      },
      "source": [
        "**1. HOW MANY CUSTOMERS ARE CATEGORIZED AS \"VINE VOICES\" / BELONG TO THE \"VINE PROGRAM\"?**"
      ]
    },
    {
      "cell_type": "code",
      "metadata": {
        "id": "UyV-cuD6izVk",
        "colab_type": "code",
        "colab": {
          "base_uri": "https://localhost:8080/",
          "height": 34
        },
        "outputId": "80dfd384-599b-40ad-d5d9-33dfef48a839"
      },
      "source": [
        "# total vine customers\n",
        "vine_customers_Sports_TtlInfo2.cache()\n",
        "print(f\"Total of customers belonging to the Vine Program (for outdoors products reviews): {vine_customers_Sports_TtlInfo2.count()}\")"
      ],
      "execution_count": 23,
      "outputs": [
        {
          "output_type": "stream",
          "text": [
            "Total of customers belonging to the Vine Program (for outdoors products reviews): 2873\n"
          ],
          "name": "stdout"
        }
      ]
    },
    {
      "cell_type": "markdown",
      "metadata": {
        "id": "f27yU_tYjU4D",
        "colab_type": "text"
      },
      "source": [
        "**2. WHO ARE THE TOP 20 VINE CUSTOMERS WITH MORE REVIEWS?**"
      ]
    },
    {
      "cell_type": "code",
      "metadata": {
        "id": "gLNRIpz0jVxI",
        "colab_type": "code",
        "colab": {
          "base_uri": "https://localhost:8080/",
          "height": 442
        },
        "outputId": "8c14756c-d95a-4179-d29c-04994b995269"
      },
      "source": [
        "#TOP 20 Vine Customers with more reviews\n",
        "from pyspark.sql.functions import desc\n",
        "vine_customers_Sports_TtlInfo2.orderBy(vine_customers_Sports_TtlInfo2[\"Total Reviews\"].desc()).select(\"Customer ID\",\"Total Reviews\").limit(20).show()"
      ],
      "execution_count": 24,
      "outputs": [
        {
          "output_type": "stream",
          "text": [
            "+-----------+-------------+\n",
            "|Customer ID|Total Reviews|\n",
            "+-----------+-------------+\n",
            "|   20789642|           48|\n",
            "|   49620639|           45|\n",
            "|   50699505|           45|\n",
            "|   51286530|           41|\n",
            "|   52215985|           35|\n",
            "|   50260445|           34|\n",
            "|   27598356|           33|\n",
            "|   52281467|           31|\n",
            "|   49346733|           29|\n",
            "|   50227539|           29|\n",
            "|   35297289|           26|\n",
            "|   50666371|           25|\n",
            "|   52188216|           24|\n",
            "|   26955164|           24|\n",
            "|   21954496|           24|\n",
            "|   52166758|           23|\n",
            "|   21155796|           23|\n",
            "|   52113744|           23|\n",
            "|   51409121|           23|\n",
            "|   31476218|           23|\n",
            "+-----------+-------------+\n",
            "\n"
          ],
          "name": "stdout"
        }
      ]
    },
    {
      "cell_type": "markdown",
      "metadata": {
        "id": "P-7buo0_jdjJ",
        "colab_type": "text"
      },
      "source": [
        "**3. WHAT IS THE AVERAGE STAR RATINGS FOR THE TOP 20 CUSTOMERS WITH MORE REVIEWS?**"
      ]
    },
    {
      "cell_type": "code",
      "metadata": {
        "id": "FYFjDZTojhNr",
        "colab_type": "code",
        "colab": {
          "base_uri": "https://localhost:8080/",
          "height": 442
        },
        "outputId": "498fc019-547f-45d3-fbbd-f814eefcdb4b"
      },
      "source": [
        "#Average Star Ratings for Top 20 vine customers\n",
        "vine_customers_Sports_TtlInfo2.orderBy(vine_customers_Sports_TtlInfo2[\"Total Reviews\"].desc()).select(\"Customer ID\",\"Total Reviews\", \"Average Star Rating\").limit(20).show()"
      ],
      "execution_count": 25,
      "outputs": [
        {
          "output_type": "stream",
          "text": [
            "+-----------+-------------+-------------------+\n",
            "|Customer ID|Total Reviews|Average Star Rating|\n",
            "+-----------+-------------+-------------------+\n",
            "|   20789642|           48| 3.8958333333333335|\n",
            "|   49620639|           45|  4.222222222222222|\n",
            "|   50699505|           45|  4.644444444444445|\n",
            "|   51286530|           41|  4.048780487804878|\n",
            "|   52215985|           35|  4.714285714285714|\n",
            "|   50260445|           34|  4.294117647058823|\n",
            "|   27598356|           33|  4.818181818181818|\n",
            "|   52281467|           31| 3.4838709677419355|\n",
            "|   49346733|           29| 3.8275862068965516|\n",
            "|   50227539|           29|                4.0|\n",
            "|   35297289|           26| 4.1923076923076925|\n",
            "|   50666371|           25|               3.92|\n",
            "|   52188216|           24|              3.875|\n",
            "|   26955164|           24|  4.666666666666667|\n",
            "|   21954496|           24|              3.875|\n",
            "|   52166758|           23|  4.217391304347826|\n",
            "|   21155796|           23|  4.739130434782608|\n",
            "|   52113744|           23|  3.782608695652174|\n",
            "|   51409121|           23|                4.0|\n",
            "|   31476218|           23|  4.521739130434782|\n",
            "+-----------+-------------+-------------------+\n",
            "\n"
          ],
          "name": "stdout"
        }
      ]
    },
    {
      "cell_type": "markdown",
      "metadata": {
        "id": "mrPhXyrPjsrw",
        "colab_type": "text"
      },
      "source": [
        "**4. WHAT IS THE AVERAGE STAR RATING FOR THE VINE CUSTOMER WITH THE MOST HELPFUL VOTES?**"
      ]
    },
    {
      "cell_type": "code",
      "metadata": {
        "id": "8ftKGkhmjtff",
        "colab_type": "code",
        "colab": {
          "base_uri": "https://localhost:8080/",
          "height": 119
        },
        "outputId": "2eac2e72-7e18-4557-c210-ce82370837da"
      },
      "source": [
        "vine_customers_Sports_TtlInfo2.orderBy(vine_customers_Sports_TtlInfo2[\"Helpful votes\"].desc()).select(\"Customer ID\",\"Helpful votes\",\"Average Star Rating\").limit(1).show()"
      ],
      "execution_count": 26,
      "outputs": [
        {
          "output_type": "stream",
          "text": [
            "+-----------+-------------+-------------------+\n",
            "|Customer ID|Helpful votes|Average Star Rating|\n",
            "+-----------+-------------+-------------------+\n",
            "|   52490988|          737|                3.5|\n",
            "+-----------+-------------+-------------------+\n",
            "\n"
          ],
          "name": "stdout"
        }
      ]
    },
    {
      "cell_type": "markdown",
      "metadata": {
        "id": "oJ8x45i5jyP9",
        "colab_type": "text"
      },
      "source": [
        "**5. WHAT IS THE AVERAGE STAR RATING OF THE VINE CUSTOMER WITH LESS REVIEWS AND HOW MANY HELPFUL AND TOTAL VOTES HAS?**"
      ]
    },
    {
      "cell_type": "code",
      "metadata": {
        "id": "WqElSeshj04d",
        "colab_type": "code",
        "colab": {
          "base_uri": "https://localhost:8080/",
          "height": 119
        },
        "outputId": "89bc1e11-1535-4ad1-f8ca-6afaf084cd6d"
      },
      "source": [
        "vine_customers_Sports_TtlInfo2.orderBy(\"Total Reviews\").limit(1).show()"
      ],
      "execution_count": 27,
      "outputs": [
        {
          "output_type": "stream",
          "text": [
            "+-----------+-------------+-------------+-------------------+-----------------------+-----------+\n",
            "|Customer ID|Total Reviews|Helpful votes|Average Star Rating|Total Products reviewed|Total Votes|\n",
            "+-----------+-------------+-------------+-------------------+-----------------------+-----------+\n",
            "|   17171509|            1|            1|                5.0|                      1|          2|\n",
            "+-----------+-------------+-------------+-------------------+-----------------------+-----------+\n",
            "\n"
          ],
          "name": "stdout"
        }
      ]
    },
    {
      "cell_type": "markdown",
      "metadata": {
        "id": "-q6XWNCWlZJ-",
        "colab_type": "text"
      },
      "source": [
        "##Combined Tables"
      ]
    },
    {
      "cell_type": "code",
      "metadata": {
        "id": "dqzEp9O7wnSs",
        "colab_type": "code",
        "colab": {
          "base_uri": "https://localhost:8080/",
          "height": 323
        },
        "outputId": "cfb142d7-6bf3-45b1-fb97-9ace8da6bd79"
      },
      "source": [
        "from pyspark.sql.functions import lit\n",
        "\n",
        "\n",
        "vine_customers_Outdoor_TtlInfo3 = vine_customers_Outdoor_TtlInfo2.withColumn(\"Type of Product\", lit(\"Outdoor\"))\n",
        "vine_customers_Outdoor_TtlInfo3.show(3)\n",
        "vine_customers_Sports_TtlInfo3 = vine_customers_Sports_TtlInfo2.withColumn(\"Type of Product\", lit(\"Sports\"))\n",
        "vine_customers_Sports_TtlInfo3.show(3)\n"
      ],
      "execution_count": 28,
      "outputs": [
        {
          "output_type": "stream",
          "text": [
            "+-----------+-------------+-------------+-------------------+-----------------------+-----------+---------------+\n",
            "|Customer ID|Total Reviews|Helpful votes|Average Star Rating|Total Products reviewed|Total Votes|Type of Product|\n",
            "+-----------+-------------+-------------+-------------------+-----------------------+-----------+---------------+\n",
            "|   17481726|            3|           12| 3.6666666666666665|                      3|         13|        Outdoor|\n",
            "|   18800155|            2|            1|                4.0|                      2|          2|        Outdoor|\n",
            "|   38679000|            1|            0|                5.0|                      1|          1|        Outdoor|\n",
            "+-----------+-------------+-------------+-------------------+-----------------------+-----------+---------------+\n",
            "only showing top 3 rows\n",
            "\n",
            "+-----------+-------------+-------------+-------------------+-----------------------+-----------+---------------+\n",
            "|Customer ID|Total Reviews|Helpful votes|Average Star Rating|Total Products reviewed|Total Votes|Type of Product|\n",
            "+-----------+-------------+-------------+-------------------+-----------------------+-----------+---------------+\n",
            "|   17171509|            1|            1|                5.0|                      1|          2|         Sports|\n",
            "|   17481726|            5|           16|                4.0|                      5|         20|         Sports|\n",
            "|   18800155|            2|            0|                5.0|                      2|          0|         Sports|\n",
            "+-----------+-------------+-------------+-------------------+-----------------------+-----------+---------------+\n",
            "only showing top 3 rows\n",
            "\n"
          ],
          "name": "stdout"
        }
      ]
    },
    {
      "cell_type": "code",
      "metadata": {
        "id": "25-Tz1ASyhdn",
        "colab_type": "code",
        "colab": {
          "base_uri": "https://localhost:8080/",
          "height": 289
        },
        "outputId": "2ab0b5b3-ea2d-4a93-c9ff-d50412ab0a9c"
      },
      "source": [
        "# Join DFs of customers\n",
        "combinedDF = vine_customers_Outdoor_TtlInfo3.union(vine_customers_Sports_TtlInfo3)\n",
        "\n",
        "combinedDF.cache()\n",
        "\n",
        "combinedDF.show(10, truncate=False)"
      ],
      "execution_count": 29,
      "outputs": [
        {
          "output_type": "stream",
          "text": [
            "+-----------+-------------+-------------+-------------------+-----------------------+-----------+---------------+\n",
            "|Customer ID|Total Reviews|Helpful votes|Average Star Rating|Total Products reviewed|Total Votes|Type of Product|\n",
            "+-----------+-------------+-------------+-------------------+-----------------------+-----------+---------------+\n",
            "|17481726   |3            |12           |3.6666666666666665 |3                      |13         |Outdoor        |\n",
            "|18800155   |2            |1            |4.0                |2                      |2          |Outdoor        |\n",
            "|38679000   |1            |0            |5.0                |1                      |1          |Outdoor        |\n",
            "|41549558   |5            |3            |5.0                |5                      |6          |Outdoor        |\n",
            "|49214860   |3            |123          |4.0                |3                      |125        |Outdoor        |\n",
            "|50152643   |1            |0            |5.0                |1                      |1          |Outdoor        |\n",
            "|50699952   |1            |2            |4.0                |1                      |3          |Outdoor        |\n",
            "|51854558   |3            |2            |4.0                |3                      |2          |Outdoor        |\n",
            "|52068296   |1            |1            |4.0                |1                      |1          |Outdoor        |\n",
            "|52773179   |1            |4            |3.0                |1                      |5          |Outdoor        |\n",
            "+-----------+-------------+-------------+-------------------+-----------------------+-----------+---------------+\n",
            "only showing top 10 rows\n",
            "\n"
          ],
          "name": "stdout"
        }
      ]
    },
    {
      "cell_type": "markdown",
      "metadata": {
        "id": "Z7sTAIdBBxKj",
        "colab_type": "text"
      },
      "source": [
        "**Total reviews by Vine Customers for Sports and Outdoors Products**"
      ]
    },
    {
      "cell_type": "code",
      "metadata": {
        "id": "hyZNL0NgBwpq",
        "colab_type": "code",
        "colab": {
          "base_uri": "https://localhost:8080/",
          "height": 34
        },
        "outputId": "4b2db013-3465-422f-8ff5-b992258c0150"
      },
      "source": [
        "print(f\"Total reviews (for sports and outdoors products): {combinedDF.count()}\")"
      ],
      "execution_count": 30,
      "outputs": [
        {
          "output_type": "stream",
          "text": [
            "Total reviews (for sports and outdoors products): 4646\n"
          ],
          "name": "stdout"
        }
      ]
    },
    {
      "cell_type": "markdown",
      "metadata": {
        "id": "hAafL-jGCuBm",
        "colab_type": "text"
      },
      "source": [
        "**Total of Vine Customers (withing sports and outdoors products)**"
      ]
    },
    {
      "cell_type": "code",
      "metadata": {
        "id": "EF236OIHCBNS",
        "colab_type": "code",
        "colab": {
          "base_uri": "https://localhost:8080/",
          "height": 34
        },
        "outputId": "4aa075fd-a657-4dfc-d0b6-012e1e50731f"
      },
      "source": [
        "ttlVine_Customers =combinedDF.groupBy(\"Customer ID\").avg().count()\n",
        "print(f\"Total of customers belonging to the Vine Program (for outdoors products reviews): {ttlVine_Customers}\")"
      ],
      "execution_count": 31,
      "outputs": [
        {
          "output_type": "stream",
          "text": [
            "Total of customers belonging to the Vine Program (for outdoors products reviews): 3236\n"
          ],
          "name": "stdout"
        }
      ]
    },
    {
      "cell_type": "markdown",
      "metadata": {
        "id": "J194dqWS85QD",
        "colab_type": "text"
      },
      "source": [
        "**Top 10 Vine Customers with most Products Reviewed and higher votes**"
      ]
    },
    {
      "cell_type": "code",
      "metadata": {
        "id": "4ZPFmusR7NAj",
        "colab_type": "code",
        "colab": {
          "base_uri": "https://localhost:8080/",
          "height": 272
        },
        "outputId": "162f64ce-db0f-4f79-a6ea-722c24e251bf"
      },
      "source": [
        "\n",
        "combinedDF.orderBy(combinedDF[\"Total Votes\"].desc()).orderBy(combinedDF[\"Total Products reviewed\"].desc()).select(\"Customer ID\",\"Total Products reviewed\",\"Total Votes\",\"Type of Product\",\"Average Star Rating\").limit(10).show()"
      ],
      "execution_count": 32,
      "outputs": [
        {
          "output_type": "stream",
          "text": [
            "+-----------+-----------------------+-----------+---------------+-------------------+\n",
            "|Customer ID|Total Products reviewed|Total Votes|Type of Product|Average Star Rating|\n",
            "+-----------+-----------------------+-----------+---------------+-------------------+\n",
            "|   20789642|                     48|         30|         Sports| 3.8958333333333335|\n",
            "|   49620639|                     45|         92|         Sports|  4.222222222222222|\n",
            "|   50699505|                     45|        183|         Sports|  4.644444444444445|\n",
            "|   51286530|                     41|         66|         Sports|  4.048780487804878|\n",
            "|   52215985|                     35|         71|         Sports|  4.714285714285714|\n",
            "|   50260445|                     34|         54|         Sports|  4.294117647058823|\n",
            "|   27598356|                     33|         24|         Sports|  4.818181818181818|\n",
            "|   52281467|                     31|        194|         Sports| 3.4838709677419355|\n",
            "|   49346733|                     29|         23|         Sports| 3.8275862068965516|\n",
            "|   50227539|                     29|        101|         Sports|                4.0|\n",
            "+-----------+-----------------------+-----------+---------------+-------------------+\n",
            "\n"
          ],
          "name": "stdout"
        }
      ]
    },
    {
      "cell_type": "markdown",
      "metadata": {
        "id": "wGriSuRd9Snz",
        "colab_type": "text"
      },
      "source": [
        "**Customers grouped by product type (outdoors and sports)**"
      ]
    },
    {
      "cell_type": "code",
      "metadata": {
        "id": "eukc4rgEzZRS",
        "colab_type": "code",
        "colab": {
          "base_uri": "https://localhost:8080/",
          "height": 289
        },
        "outputId": "bb4b4c2d-d6b5-4d9b-e58d-627deab6e70c"
      },
      "source": [
        "customers_byProduct = combinedDF.groupBy(\"Customer ID\", \"Type of Product\").agg({\"Type of Product\":\"count\",\"Total Reviews\":\"count\", \"Helpful votes\":\"sum\", \"Average Star Rating\":\"avg\", \"Total Products reviewed\":\"sum\", \"Total Votes\":\"sum\"})\n",
        "# customers_byProduct.show(2)\n",
        "\n",
        "customers_byProduct2 = customers_byProduct.toDF(\"Customer ID\", \"Type of Product\",\"Total Votes\",\"Total Reviews\", \"Average Star Rating\",\"Total Products reviewed\",\"Count of Type of Products\",\"Helpful votes\")\n",
        "# customers_byProduct2.show(2)\n",
        "\n",
        "customers_byProduct2.orderBy(customers_byProduct2[\"Total Products reviewed\"].desc()).orderBy(customers_byProduct2[\"Total Votes\"].desc()).select(\"Customer ID\", \"Type of Product\",\"Total Votes\",\"Total Products reviewed\",\"Average Star Rating\").show(10)"
      ],
      "execution_count": 33,
      "outputs": [
        {
          "output_type": "stream",
          "text": [
            "+-----------+---------------+-----------+-----------------------+-------------------+\n",
            "|Customer ID|Type of Product|Total Votes|Total Products reviewed|Average Star Rating|\n",
            "+-----------+---------------+-----------+-----------------------+-------------------+\n",
            "|   50359177|         Sports|        928|                      1|                1.0|\n",
            "|   52490988|         Sports|        776|                      4|                3.5|\n",
            "|   32228920|         Sports|        591|                      2|                4.5|\n",
            "|   16995624|         Sports|        518|                      3| 3.3333333333333335|\n",
            "|   45351550|        Outdoor|        513|                      8|              4.625|\n",
            "|   26955164|         Sports|        513|                     24|  4.666666666666667|\n",
            "|   20981134|         Sports|        474|                      9|  4.777777777777778|\n",
            "|   52433849|         Sports|        432|                      8|              2.875|\n",
            "|   51835976|         Sports|        413|                      5|                4.4|\n",
            "|   50304462|         Sports|        381|                      9|  4.555555555555555|\n",
            "+-----------+---------------+-----------+-----------------------+-------------------+\n",
            "only showing top 10 rows\n",
            "\n"
          ],
          "name": "stdout"
        }
      ]
    },
    {
      "cell_type": "code",
      "metadata": {
        "id": "0hGMPpda6xrb",
        "colab_type": "code",
        "colab": {
          "base_uri": "https://localhost:8080/",
          "height": 289
        },
        "outputId": "1eeae359-f291-43b6-e1bb-4bcbc22a5226"
      },
      "source": [
        "customers_byProduct3 = combinedDF.groupBy(\"Customer ID\", \"Type of Product\").agg({\"Type of Product\":\"count\"})\n",
        "customers_byProduct3.orderBy(\"count(Type of Product)\").show(10)"
      ],
      "execution_count": 34,
      "outputs": [
        {
          "output_type": "stream",
          "text": [
            "+-----------+---------------+----------------------+\n",
            "|Customer ID|Type of Product|count(Type of Product)|\n",
            "+-----------+---------------+----------------------+\n",
            "|   53094985|        Outdoor|                     1|\n",
            "|   35753769|        Outdoor|                     1|\n",
            "|   52791740|        Outdoor|                     1|\n",
            "|   12803566|        Outdoor|                     1|\n",
            "|   50046574|        Outdoor|                     1|\n",
            "|   52876492|         Sports|                     1|\n",
            "|   38727871|         Sports|                     1|\n",
            "|   36043471|         Sports|                     1|\n",
            "|   26565724|         Sports|                     1|\n",
            "|   49096095|         Sports|                     1|\n",
            "+-----------+---------------+----------------------+\n",
            "only showing top 10 rows\n",
            "\n"
          ],
          "name": "stdout"
        }
      ]
    }
  ]
}