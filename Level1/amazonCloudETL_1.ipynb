{
  "nbformat": 4,
  "nbformat_minor": 0,
  "metadata": {
    "colab": {
      "name": "amazonCloudETL_1.ipynb",
      "provenance": [],
      "collapsed_sections": []
    },
    "kernelspec": {
      "name": "python3",
      "display_name": "Python 3"
    }
  },
  "cells": [
    {
      "cell_type": "code",
      "metadata": {
        "id": "iECGjFU5Q4oA",
        "colab_type": "code",
        "colab": {}
      },
      "source": [
        "# Install Java, Spark, and Findspark\n",
        "!apt-get install openjdk-8-jdk-headless -qq > /dev/null\n",
        "!wget -q http://www-us.apache.org/dist/spark/spark-2.4.5/spark-2.4.5-bin-hadoop2.7.tgz\n",
        "!tar xf spark-2.4.5-bin-hadoop2.7.tgz\n",
        "!pip install -q findspark\n",
        "\n",
        "# Set Environment Variables\n",
        "import os\n",
        "os.environ[\"JAVA_HOME\"] = \"/usr/lib/jvm/java-8-openjdk-amd64\"\n",
        "os.environ[\"SPARK_HOME\"] = \"/content/spark-2.4.5-bin-hadoop2.7\"\n",
        "\n",
        "# Start a SparkSession\n",
        "import findspark\n",
        "findspark.init()"
      ],
      "execution_count": 1,
      "outputs": []
    },
    {
      "cell_type": "code",
      "metadata": {
        "id": "qL6awVDVRRQV",
        "colab_type": "code",
        "colab": {
          "base_uri": "https://localhost:8080/",
          "height": 208
        },
        "outputId": "92669a63-b8eb-47ec-ceab-f77b8ef23ae5"
      },
      "source": [
        "#Establish connection with  POSTGRES\n",
        "!wget https://jdbc.postgresql.org/download/postgresql-42.2.9.jar\n"
      ],
      "execution_count": 2,
      "outputs": [
        {
          "output_type": "stream",
          "text": [
            "--2020-06-27 00:56:22--  https://jdbc.postgresql.org/download/postgresql-42.2.9.jar\n",
            "Resolving jdbc.postgresql.org (jdbc.postgresql.org)... 72.32.157.228, 2001:4800:3e1:1::228\n",
            "Connecting to jdbc.postgresql.org (jdbc.postgresql.org)|72.32.157.228|:443... connected.\n",
            "HTTP request sent, awaiting response... 200 OK\n",
            "Length: 914037 (893K) [application/java-archive]\n",
            "Saving to: ‘postgresql-42.2.9.jar’\n",
            "\n",
            "postgresql-42.2.9.j 100%[===================>] 892.61K  3.11MB/s    in 0.3s    \n",
            "\n",
            "2020-06-27 00:56:23 (3.11 MB/s) - ‘postgresql-42.2.9.jar’ saved [914037/914037]\n",
            "\n"
          ],
          "name": "stdout"
        }
      ]
    },
    {
      "cell_type": "code",
      "metadata": {
        "id": "mDtVdxDUSF8A",
        "colab_type": "code",
        "colab": {}
      },
      "source": [
        "# Create SparkSession using its connection with Postgres\n",
        "from pyspark.sql import SparkSession\n",
        "spark = SparkSession.builder.appName(\"amazonCloudETL\").config(\"spark.driver.extraClassPath\",\"/content/postgresql-42.2.9.jar\").getOrCreate()"
      ],
      "execution_count": 3,
      "outputs": []
    },
    {
      "cell_type": "markdown",
      "metadata": {
        "id": "RvFsgNNQrs-o",
        "colab_type": "text"
      },
      "source": [
        "## EXTRACT"
      ]
    },
    {
      "cell_type": "code",
      "metadata": {
        "id": "i-vYmwigU1Zk",
        "colab_type": "code",
        "colab": {
          "base_uri": "https://localhost:8080/",
          "height": 176
        },
        "outputId": "bfbcc828-bd27-49a8-afed-aedef6707a29"
      },
      "source": [
        "# Load in file from amazon aws url\n",
        "from pyspark import SparkFiles\n",
        "\n",
        "url = \"https://s3.amazonaws.com/amazon-reviews-pds/tsv/amazon_reviews_us_Sports_v1_00.tsv.gz\"\n",
        "spark.sparkContext.addFile(url)\n",
        "\n",
        "sports_df = spark.read.csv(SparkFiles.get(\"amazon_reviews_us_Sports_v1_00.tsv.gz\"),header= True, sep=\"\\t\",inferSchema=True, timestampFormat=\"yyyy-mm-dd\")\n",
        "\n",
        "# Show DataFrame\n",
        "sports_df.show(2, truncate=False)"
      ],
      "execution_count": 4,
      "outputs": [
        {
          "output_type": "stream",
          "text": [
            "+-----------+-----------+--------------+----------+--------------+-----------------------------------------------------------------------------------------------+----------------+-----------+-------------+-----------+----+-----------------+-----------------+------------------------------------------------------------------------------------------------------------------------------------------------------------------------------+-------------------+\n",
            "|marketplace|customer_id|review_id     |product_id|product_parent|product_title                                                                                  |product_category|star_rating|helpful_votes|total_votes|vine|verified_purchase|review_headline  |review_body                                                                                                                                                                   |review_date        |\n",
            "+-----------+-----------+--------------+----------+--------------+-----------------------------------------------------------------------------------------------+----------------+-----------+-------------+-----------+----+-----------------+-----------------+------------------------------------------------------------------------------------------------------------------------------------------------------------------------------+-------------------+\n",
            "|US         |48945260   |R1WBPB8MDCCN8F|B012P7UPSM|409940130     |Chicago Blackhawks Adult Cuff Knit Beanie w/ Pom One Size Fits All NHL Authentic Hat Cap - OSFA|Sports          |5          |0            |0          |N   |N                |LOVE IT. 6 stars!|Bought this last winter I love it! I'm female and the hat is so comfy and fits over my ears perfectly to keep me warm! Love love love this hat! Can't wait for this winter  :)|2015-01-31 00:08:00|\n",
            "|US         |5782091    |R32M0YEWV77XG8|B001GQ3VHG|657746679     |Copag Poker Size Regular Index 1546 Playing Cards 2 decks (Black Gold Setup)                   |Sports          |5          |1            |1          |N   |Y                |Shipped fast.    |These are the best plastic playing cards I've ever owned. I came here from another plastic set called &#34;Bicycle: Prestige&#34;. These copags put those to shame.           |2015-01-31 00:08:00|\n",
            "+-----------+-----------+--------------+----------+--------------+-----------------------------------------------------------------------------------------------+----------------+-----------+-------------+-----------+----+-----------------+-----------------+------------------------------------------------------------------------------------------------------------------------------------------------------------------------------+-------------------+\n",
            "only showing top 2 rows\n",
            "\n"
          ],
          "name": "stdout"
        }
      ]
    },
    {
      "cell_type": "markdown",
      "metadata": {
        "id": "p-WNcYXI0G9k",
        "colab_type": "text"
      },
      "source": [
        "**Number of records in the dataframe**"
      ]
    },
    {
      "cell_type": "code",
      "metadata": {
        "id": "qkXHO0hMtOeO",
        "colab_type": "code",
        "colab": {
          "base_uri": "https://localhost:8080/",
          "height": 35
        },
        "outputId": "7b2441d0-7997-470d-db8b-78169afa4ac8"
      },
      "source": [
        "#Count the number of records (rows) in the dataset\n",
        "print(sports_df.count())"
      ],
      "execution_count": 5,
      "outputs": [
        {
          "output_type": "stream",
          "text": [
            "4850360\n"
          ],
          "name": "stdout"
        }
      ]
    },
    {
      "cell_type": "markdown",
      "metadata": {
        "id": "o9Jn41NMUZTU",
        "colab_type": "text"
      },
      "source": [
        "Examine the schema"
      ]
    },
    {
      "cell_type": "code",
      "metadata": {
        "id": "H5PXkWBWoAi0",
        "colab_type": "code",
        "colab": {
          "base_uri": "https://localhost:8080/",
          "height": 306
        },
        "outputId": "19ff47b8-ca45-4523-8c1a-67872a898abd"
      },
      "source": [
        "sports_df.printSchema()"
      ],
      "execution_count": 6,
      "outputs": [
        {
          "output_type": "stream",
          "text": [
            "root\n",
            " |-- marketplace: string (nullable = true)\n",
            " |-- customer_id: integer (nullable = true)\n",
            " |-- review_id: string (nullable = true)\n",
            " |-- product_id: string (nullable = true)\n",
            " |-- product_parent: integer (nullable = true)\n",
            " |-- product_title: string (nullable = true)\n",
            " |-- product_category: string (nullable = true)\n",
            " |-- star_rating: string (nullable = true)\n",
            " |-- helpful_votes: integer (nullable = true)\n",
            " |-- total_votes: integer (nullable = true)\n",
            " |-- vine: string (nullable = true)\n",
            " |-- verified_purchase: string (nullable = true)\n",
            " |-- review_headline: string (nullable = true)\n",
            " |-- review_body: string (nullable = true)\n",
            " |-- review_date: timestamp (nullable = true)\n",
            "\n"
          ],
          "name": "stdout"
        }
      ]
    },
    {
      "cell_type": "markdown",
      "metadata": {
        "id": "4s1_ETRXsDTW",
        "colab_type": "text"
      },
      "source": [
        "## TRANSFORM"
      ]
    },
    {
      "cell_type": "code",
      "metadata": {
        "id": "AFv5seOssCDu",
        "colab_type": "code",
        "colab": {
          "base_uri": "https://localhost:8080/",
          "height": 173
        },
        "outputId": "a12e00af-ad20-4439-9fc3-de5e2609b968"
      },
      "source": [
        "#Remove NA values\n",
        "sports_df2 = sports_df.dropna()\n",
        "sports_df2.show(2, truncate=False)"
      ],
      "execution_count": 7,
      "outputs": [
        {
          "output_type": "stream",
          "text": [
            "+-----------+-----------+--------------+----------+--------------+-----------------------------------------------------------------------------------------------+----------------+-----------+-------------+-----------+----+-----------------+-----------------+------------------------------------------------------------------------------------------------------------------------------------------------------------------------------+-------------------+\n",
            "|marketplace|customer_id|review_id     |product_id|product_parent|product_title                                                                                  |product_category|star_rating|helpful_votes|total_votes|vine|verified_purchase|review_headline  |review_body                                                                                                                                                                   |review_date        |\n",
            "+-----------+-----------+--------------+----------+--------------+-----------------------------------------------------------------------------------------------+----------------+-----------+-------------+-----------+----+-----------------+-----------------+------------------------------------------------------------------------------------------------------------------------------------------------------------------------------+-------------------+\n",
            "|US         |48945260   |R1WBPB8MDCCN8F|B012P7UPSM|409940130     |Chicago Blackhawks Adult Cuff Knit Beanie w/ Pom One Size Fits All NHL Authentic Hat Cap - OSFA|Sports          |5          |0            |0          |N   |N                |LOVE IT. 6 stars!|Bought this last winter I love it! I'm female and the hat is so comfy and fits over my ears perfectly to keep me warm! Love love love this hat! Can't wait for this winter  :)|2015-01-31 00:08:00|\n",
            "|US         |5782091    |R32M0YEWV77XG8|B001GQ3VHG|657746679     |Copag Poker Size Regular Index 1546 Playing Cards 2 decks (Black Gold Setup)                   |Sports          |5          |1            |1          |N   |Y                |Shipped fast.    |These are the best plastic playing cards I've ever owned. I came here from another plastic set called &#34;Bicycle: Prestige&#34;. These copags put those to shame.           |2015-01-31 00:08:00|\n",
            "+-----------+-----------+--------------+----------+--------------+-----------------------------------------------------------------------------------------------+----------------+-----------+-------------+-----------+----+-----------------+-----------------+------------------------------------------------------------------------------------------------------------------------------------------------------------------------------+-------------------+\n",
            "only showing top 2 rows\n",
            "\n"
          ],
          "name": "stdout"
        }
      ]
    },
    {
      "cell_type": "code",
      "metadata": {
        "id": "dmgfSM6Otenj",
        "colab_type": "code",
        "colab": {
          "base_uri": "https://localhost:8080/",
          "height": 34
        },
        "outputId": "05354d5e-67a4-4ad6-b71c-074ebcbed06b"
      },
      "source": [
        "#Count the number of records (rows) in the dataset (without NA)\n",
        "print(sports_df2.count())"
      ],
      "execution_count": 8,
      "outputs": [
        {
          "output_type": "stream",
          "text": [
            "4848999\n"
          ],
          "name": "stdout"
        }
      ]
    },
    {
      "cell_type": "code",
      "metadata": {
        "id": "1hPMoWPDv7IR",
        "colab_type": "code",
        "colab": {
          "base_uri": "https://localhost:8080/",
          "height": 173
        },
        "outputId": "aca1f46d-8585-4430-c1e2-1c69c4e10d58"
      },
      "source": [
        "#Change review_date column timestamp format to date\n",
        "from pyspark.sql.functions import col, to_date\n",
        "\n",
        "sports_df3 = sports_df2.withColumn(\"review_date\", to_date(col(\"review_date\"),\"yyyy-mm-dd\"))\n",
        "sports_df3.show(2, truncate=False)"
      ],
      "execution_count": 10,
      "outputs": [
        {
          "output_type": "stream",
          "text": [
            "+-----------+-----------+--------------+----------+--------------+-----------------------------------------------------------------------------------------------+----------------+-----------+-------------+-----------+----+-----------------+-----------------+------------------------------------------------------------------------------------------------------------------------------------------------------------------------------+-----------+\n",
            "|marketplace|customer_id|review_id     |product_id|product_parent|product_title                                                                                  |product_category|star_rating|helpful_votes|total_votes|vine|verified_purchase|review_headline  |review_body                                                                                                                                                                   |review_date|\n",
            "+-----------+-----------+--------------+----------+--------------+-----------------------------------------------------------------------------------------------+----------------+-----------+-------------+-----------+----+-----------------+-----------------+------------------------------------------------------------------------------------------------------------------------------------------------------------------------------+-----------+\n",
            "|US         |48945260   |R1WBPB8MDCCN8F|B012P7UPSM|409940130     |Chicago Blackhawks Adult Cuff Knit Beanie w/ Pom One Size Fits All NHL Authentic Hat Cap - OSFA|Sports          |5          |0            |0          |N   |N                |LOVE IT. 6 stars!|Bought this last winter I love it! I'm female and the hat is so comfy and fits over my ears perfectly to keep me warm! Love love love this hat! Can't wait for this winter  :)|2015-01-31 |\n",
            "|US         |5782091    |R32M0YEWV77XG8|B001GQ3VHG|657746679     |Copag Poker Size Regular Index 1546 Playing Cards 2 decks (Black Gold Setup)                   |Sports          |5          |1            |1          |N   |Y                |Shipped fast.    |These are the best plastic playing cards I've ever owned. I came here from another plastic set called &#34;Bicycle: Prestige&#34;. These copags put those to shame.           |2015-01-31 |\n",
            "+-----------+-----------+--------------+----------+--------------+-----------------------------------------------------------------------------------------------+----------------+-----------+-------------+-----------+----+-----------------+-----------------+------------------------------------------------------------------------------------------------------------------------------------------------------------------------------+-----------+\n",
            "only showing top 2 rows\n",
            "\n"
          ],
          "name": "stdout"
        }
      ]
    },
    {
      "cell_type": "markdown",
      "metadata": {
        "id": "5UT6j7XhWIay",
        "colab_type": "text"
      },
      "source": [
        "Create \"review_id_table\""
      ]
    },
    {
      "cell_type": "code",
      "metadata": {
        "id": "03SeNJ9FuDW9",
        "colab_type": "code",
        "colab": {
          "base_uri": "https://localhost:8080/",
          "height": 156
        },
        "outputId": "e9d1460a-0425-457d-966e-8fbf9cf84c2d"
      },
      "source": [
        "#Create df to match \"review_id_table\"\n",
        "reviewID_sportsDF = sports_df3.select([\"review_id\",\"customer_id\",\"product_id\",\"product_parent\",\"review_date\"])\n",
        "reviewID_sportsDF.show(2, truncate=False)"
      ],
      "execution_count": 11,
      "outputs": [
        {
          "output_type": "stream",
          "text": [
            "+--------------+-----------+----------+--------------+-----------+\n",
            "|review_id     |customer_id|product_id|product_parent|review_date|\n",
            "+--------------+-----------+----------+--------------+-----------+\n",
            "|R1WBPB8MDCCN8F|48945260   |B012P7UPSM|409940130     |2015-01-31 |\n",
            "|R32M0YEWV77XG8|5782091    |B001GQ3VHG|657746679     |2015-01-31 |\n",
            "+--------------+-----------+----------+--------------+-----------+\n",
            "only showing top 2 rows\n",
            "\n"
          ],
          "name": "stdout"
        }
      ]
    },
    {
      "cell_type": "code",
      "metadata": {
        "id": "VQUwSecw-NkJ",
        "colab_type": "code",
        "colab": {
          "base_uri": "https://localhost:8080/",
          "height": 139
        },
        "outputId": "96b71764-10c7-4c58-bf47-9fa19f6edc01"
      },
      "source": [
        "#Validate Schema matches the table established in postgres DB\n",
        "reviewID_sportsDF.printSchema()"
      ],
      "execution_count": 12,
      "outputs": [
        {
          "output_type": "stream",
          "text": [
            "root\n",
            " |-- review_id: string (nullable = true)\n",
            " |-- customer_id: integer (nullable = true)\n",
            " |-- product_id: string (nullable = true)\n",
            " |-- product_parent: integer (nullable = true)\n",
            " |-- review_date: date (nullable = true)\n",
            "\n"
          ],
          "name": "stdout"
        }
      ]
    },
    {
      "cell_type": "markdown",
      "metadata": {
        "id": "c03EC5eMWmS-",
        "colab_type": "text"
      },
      "source": [
        "Create \"products\" table"
      ]
    },
    {
      "cell_type": "code",
      "metadata": {
        "id": "kqSvrbny1HIg",
        "colab_type": "code",
        "colab": {
          "base_uri": "https://localhost:8080/",
          "height": 156
        },
        "outputId": "058d977c-28c0-4e1c-a327-95e168203bb4"
      },
      "source": [
        "#Create df to match \"products\" table\n",
        "products_sportsDF = sports_df3.select([\"product_id\",\"product_title\"])\n",
        "products_sportsDF.show(2, truncate=False)"
      ],
      "execution_count": 13,
      "outputs": [
        {
          "output_type": "stream",
          "text": [
            "+----------+-----------------------------------------------------------------------------------------------+\n",
            "|product_id|product_title                                                                                  |\n",
            "+----------+-----------------------------------------------------------------------------------------------+\n",
            "|B012P7UPSM|Chicago Blackhawks Adult Cuff Knit Beanie w/ Pom One Size Fits All NHL Authentic Hat Cap - OSFA|\n",
            "|B001GQ3VHG|Copag Poker Size Regular Index 1546 Playing Cards 2 decks (Black Gold Setup)                   |\n",
            "+----------+-----------------------------------------------------------------------------------------------+\n",
            "only showing top 2 rows\n",
            "\n"
          ],
          "name": "stdout"
        }
      ]
    },
    {
      "cell_type": "code",
      "metadata": {
        "id": "XOkwjzPG4odu",
        "colab_type": "code",
        "colab": {}
      },
      "source": [
        "#Drop duplicates to contain only unique values\n",
        "products_sportsDF = products_sportsDF.dropDuplicates()\n",
        "# products_sportsDF.count()"
      ],
      "execution_count": 14,
      "outputs": []
    },
    {
      "cell_type": "code",
      "metadata": {
        "id": "a5vgZFYs-W3s",
        "colab_type": "code",
        "colab": {
          "base_uri": "https://localhost:8080/",
          "height": 87
        },
        "outputId": "5ec80e46-fddf-4924-ab01-292650b03553"
      },
      "source": [
        "#Validate Schema matches the table established in postgres DB\n",
        "products_sportsDF.printSchema()"
      ],
      "execution_count": 15,
      "outputs": [
        {
          "output_type": "stream",
          "text": [
            "root\n",
            " |-- product_id: string (nullable = true)\n",
            " |-- product_title: string (nullable = true)\n",
            "\n"
          ],
          "name": "stdout"
        }
      ]
    },
    {
      "cell_type": "markdown",
      "metadata": {
        "id": "JItzKof3XZuE",
        "colab_type": "text"
      },
      "source": [
        "Create \"customers\" table"
      ]
    },
    {
      "cell_type": "code",
      "metadata": {
        "id": "j82Y1Toy8t7S",
        "colab_type": "code",
        "colab": {
          "base_uri": "https://localhost:8080/",
          "height": 156
        },
        "outputId": "9a65842f-1202-4534-83ab-618eebe9f391"
      },
      "source": [
        "#Create df to match \"customers\" table\n",
        "#First, create \"customer_count\" column\n",
        "customers_count = sports_df3.groupBy(\"customer_id\").count() #creates a df with 2 columns, \"customer_id\" and \"count\"\n",
        "\n",
        "customers_sportsDF = customers_count.withColumnRenamed(\"count\",\"customer_count\")\n",
        "customers_sportsDF.show(2,truncate= False)"
      ],
      "execution_count": 16,
      "outputs": [
        {
          "output_type": "stream",
          "text": [
            "+-----------+--------------+\n",
            "|customer_id|customer_count|\n",
            "+-----------+--------------+\n",
            "|35669025   |1             |\n",
            "|48198949   |30            |\n",
            "+-----------+--------------+\n",
            "only showing top 2 rows\n",
            "\n"
          ],
          "name": "stdout"
        }
      ]
    },
    {
      "cell_type": "code",
      "metadata": {
        "id": "nYbXYe7g-CTm",
        "colab_type": "code",
        "colab": {
          "base_uri": "https://localhost:8080/",
          "height": 87
        },
        "outputId": "4c397566-aab1-4321-b1d0-a3ef05d4ddd6"
      },
      "source": [
        "#Validate Schema matches the table established in postgres DB\n",
        "customers_sportsDF.printSchema()"
      ],
      "execution_count": 17,
      "outputs": [
        {
          "output_type": "stream",
          "text": [
            "root\n",
            " |-- customer_id: integer (nullable = true)\n",
            " |-- customer_count: long (nullable = false)\n",
            "\n"
          ],
          "name": "stdout"
        }
      ]
    },
    {
      "cell_type": "code",
      "metadata": {
        "id": "vhoLEnHSAn3b",
        "colab_type": "code",
        "colab": {
          "base_uri": "https://localhost:8080/",
          "height": 87
        },
        "outputId": "40ea0680-9ec5-4fa2-d107-d2f080864cec"
      },
      "source": [
        "#Format customer_count column. Change from Long to Integer.\n",
        "from pyspark.sql.types import IntegerType\n",
        "\n",
        "customers_sportsDF = customers_sportsDF.withColumn(\"customer_count\",col(\"customer_count\").cast(IntegerType()))\n",
        "\n",
        "#Validate schema\n",
        "customers_sportsDF.printSchema()"
      ],
      "execution_count": 18,
      "outputs": [
        {
          "output_type": "stream",
          "text": [
            "root\n",
            " |-- customer_id: integer (nullable = true)\n",
            " |-- customer_count: integer (nullable = false)\n",
            "\n"
          ],
          "name": "stdout"
        }
      ]
    },
    {
      "cell_type": "markdown",
      "metadata": {
        "id": "8TysdXupZTv6",
        "colab_type": "text"
      },
      "source": [
        "Create \"vine\" table"
      ]
    },
    {
      "cell_type": "code",
      "metadata": {
        "id": "-ni2B0Gl9Fc4",
        "colab_type": "code",
        "colab": {
          "base_uri": "https://localhost:8080/",
          "height": 208
        },
        "outputId": "51cc3289-68de-47cb-aab4-dc49df21b16d"
      },
      "source": [
        "#Create df to match \"vine\" table\n",
        "vine_sportsDF = sports_df3.select([\"review_id\",\"star_rating\",\"helpful_votes\",\"total_votes\",\"vine\"])\n",
        "vine_sportsDF.show(5, truncate=False)"
      ],
      "execution_count": 19,
      "outputs": [
        {
          "output_type": "stream",
          "text": [
            "+--------------+-----------+-------------+-----------+----+\n",
            "|review_id     |star_rating|helpful_votes|total_votes|vine|\n",
            "+--------------+-----------+-------------+-----------+----+\n",
            "|R1WBPB8MDCCN8F|5          |0            |0          |N   |\n",
            "|R32M0YEWV77XG8|5          |1            |1          |N   |\n",
            "|RR8V7WR27NXJ5 |1          |0            |0          |N   |\n",
            "|R1MHO5V9Z932AY|5          |0            |0          |N   |\n",
            "|R16PD71086BD2V|5          |0            |1          |N   |\n",
            "+--------------+-----------+-------------+-----------+----+\n",
            "only showing top 5 rows\n",
            "\n"
          ],
          "name": "stdout"
        }
      ]
    },
    {
      "cell_type": "code",
      "metadata": {
        "id": "RMidrbIP9uc1",
        "colab_type": "code",
        "colab": {
          "base_uri": "https://localhost:8080/",
          "height": 139
        },
        "outputId": "599559bd-c205-4c3d-8ae7-0ddb3748c6ea"
      },
      "source": [
        "#Validate Schema matches the table established in postgres DB\n",
        "vine_sportsDF.printSchema()"
      ],
      "execution_count": 20,
      "outputs": [
        {
          "output_type": "stream",
          "text": [
            "root\n",
            " |-- review_id: string (nullable = true)\n",
            " |-- star_rating: string (nullable = true)\n",
            " |-- helpful_votes: integer (nullable = true)\n",
            " |-- total_votes: integer (nullable = true)\n",
            " |-- vine: string (nullable = true)\n",
            "\n"
          ],
          "name": "stdout"
        }
      ]
    },
    {
      "cell_type": "code",
      "metadata": {
        "id": "5b-US4FuJVMi",
        "colab_type": "code",
        "colab": {
          "base_uri": "https://localhost:8080/",
          "height": 139
        },
        "outputId": "0b1bdbde-81b0-49b5-d24d-142f8084e122"
      },
      "source": [
        "#Format star_rating column. Change from String to Integer.\n",
        "from pyspark.sql.types import IntegerType\n",
        "\n",
        "vine_sportsDF = vine_sportsDF.withColumn(\"star_rating\",col(\"star_rating\").cast(IntegerType()))\n",
        "vine_sportsDF.printSchema()"
      ],
      "execution_count": 21,
      "outputs": [
        {
          "output_type": "stream",
          "text": [
            "root\n",
            " |-- review_id: string (nullable = true)\n",
            " |-- star_rating: integer (nullable = true)\n",
            " |-- helpful_votes: integer (nullable = true)\n",
            " |-- total_votes: integer (nullable = true)\n",
            " |-- vine: string (nullable = true)\n",
            "\n"
          ],
          "name": "stdout"
        }
      ]
    },
    {
      "cell_type": "markdown",
      "metadata": {
        "id": "8XQRDh_aKKYh",
        "colab_type": "text"
      },
      "source": [
        "## LOAD"
      ]
    },
    {
      "cell_type": "markdown",
      "metadata": {
        "id": "HhG9To8lTjQs",
        "colab_type": "text"
      },
      "source": [
        "Postgres Setup"
      ]
    },
    {
      "cell_type": "code",
      "metadata": {
        "id": "1HGB6bWTKMmF",
        "colab_type": "code",
        "colab": {}
      },
      "source": [
        "# Configure settings for RDS\n",
        "\n",
        "mode = \"append\"\n",
        "jdbc_url=\"jdbc:postgresql://mypostgresdb.cw6xrdxbjex8.us-east-2.rds.amazonaws.com:5432/bigdataHW_db\" \n",
        "\n",
        "config = {\"user\":\"root\", \"password\":\"basededatos\", \"driver\":\"org.postgresql.Driver\"}"
      ],
      "execution_count": 22,
      "outputs": []
    },
    {
      "cell_type": "markdown",
      "metadata": {
        "id": "RzCbt9tBTgKO",
        "colab_type": "text"
      },
      "source": [
        "Write DataFrame to RDS"
      ]
    },
    {
      "cell_type": "code",
      "metadata": {
        "id": "QpZ2KF54O1kP",
        "colab_type": "code",
        "colab": {}
      },
      "source": [
        "# Write DataFrame to review_id_table table in RDS\n",
        "\n",
        "reviewID_sportsDF.write.jdbc(url=jdbc_url, table='review_id_table', mode=mode, properties=config)"
      ],
      "execution_count": 28,
      "outputs": []
    },
    {
      "cell_type": "code",
      "metadata": {
        "id": "25bD1WOCO8U-",
        "colab_type": "code",
        "colab": {}
      },
      "source": [
        "# Write DataFrame to products table in RDS\n",
        "\n",
        "products_sportsDF.write.jdbc(url=jdbc_url, table='products', mode=mode, properties=config)"
      ],
      "execution_count": 24,
      "outputs": []
    },
    {
      "cell_type": "code",
      "metadata": {
        "id": "zcisjsLhO9B8",
        "colab_type": "code",
        "colab": {}
      },
      "source": [
        "# Write DataFrame to customers table in RDS\n",
        "\n",
        "customers_sportsDF.write.jdbc(url=jdbc_url, table='customers', mode=mode, properties=config)"
      ],
      "execution_count": 25,
      "outputs": []
    },
    {
      "cell_type": "code",
      "metadata": {
        "id": "8ejdJuJ-O-B_",
        "colab_type": "code",
        "colab": {}
      },
      "source": [
        "# Write DataFrame to vine_table table in RDS\n",
        "\n",
        "vine_sportsDF.write.jdbc(url=jdbc_url, table='vine_table', mode=mode, properties=config)"
      ],
      "execution_count": 26,
      "outputs": []
    }
  ]
}