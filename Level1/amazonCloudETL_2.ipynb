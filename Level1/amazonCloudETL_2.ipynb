{
  "nbformat": 4,
  "nbformat_minor": 0,
  "metadata": {
    "colab": {
      "name": "amazonCloudETL_2.ipynb",
      "provenance": [],
      "collapsed_sections": []
    },
    "kernelspec": {
      "name": "python3",
      "display_name": "Python 3"
    }
  },
  "cells": [
    {
      "cell_type": "code",
      "metadata": {
        "id": "iECGjFU5Q4oA",
        "colab_type": "code",
        "colab": {}
      },
      "source": [
        "# Install Java, Spark, and Findspark\n",
        "!apt-get install openjdk-8-jdk-headless -qq > /dev/null\n",
        "!wget -q http://www-us.apache.org/dist/spark/spark-2.4.5/spark-2.4.5-bin-hadoop2.7.tgz\n",
        "!tar xf spark-2.4.5-bin-hadoop2.7.tgz\n",
        "!pip install -q findspark\n",
        "\n",
        "# Set Environment Variables\n",
        "import os\n",
        "os.environ[\"JAVA_HOME\"] = \"/usr/lib/jvm/java-8-openjdk-amd64\"\n",
        "os.environ[\"SPARK_HOME\"] = \"/content/spark-2.4.5-bin-hadoop2.7\"\n",
        "\n",
        "# Start a SparkSession\n",
        "import findspark\n",
        "findspark.init()"
      ],
      "execution_count": 1,
      "outputs": []
    },
    {
      "cell_type": "code",
      "metadata": {
        "id": "qL6awVDVRRQV",
        "colab_type": "code",
        "colab": {
          "base_uri": "https://localhost:8080/",
          "height": 204
        },
        "outputId": "1502b6eb-9a8b-4a97-e7ac-285c046fa81d"
      },
      "source": [
        "#Establish connection with  POSTGRES\n",
        "!wget https://jdbc.postgresql.org/download/postgresql-42.2.9.jar\n"
      ],
      "execution_count": 2,
      "outputs": [
        {
          "output_type": "stream",
          "text": [
            "--2020-06-27 22:51:41--  https://jdbc.postgresql.org/download/postgresql-42.2.9.jar\n",
            "Resolving jdbc.postgresql.org (jdbc.postgresql.org)... 72.32.157.228, 2001:4800:3e1:1::228\n",
            "Connecting to jdbc.postgresql.org (jdbc.postgresql.org)|72.32.157.228|:443... connected.\n",
            "HTTP request sent, awaiting response... 200 OK\n",
            "Length: 914037 (893K) [application/java-archive]\n",
            "Saving to: ‘postgresql-42.2.9.jar’\n",
            "\n",
            "postgresql-42.2.9.j 100%[===================>] 892.61K  3.61MB/s    in 0.2s    \n",
            "\n",
            "2020-06-27 22:51:41 (3.61 MB/s) - ‘postgresql-42.2.9.jar’ saved [914037/914037]\n",
            "\n"
          ],
          "name": "stdout"
        }
      ]
    },
    {
      "cell_type": "code",
      "metadata": {
        "id": "mDtVdxDUSF8A",
        "colab_type": "code",
        "colab": {}
      },
      "source": [
        "# Create SparkSession using its connection with Postgres\n",
        "from pyspark.sql import SparkSession\n",
        "spark = SparkSession.builder.appName(\"amazonCloudETL_DS2\").config(\"spark.driver.extraClassPath\",\"/content/postgresql-42.2.9.jar\").getOrCreate()"
      ],
      "execution_count": 3,
      "outputs": []
    },
    {
      "cell_type": "markdown",
      "metadata": {
        "id": "RvFsgNNQrs-o",
        "colab_type": "text"
      },
      "source": [
        "## EXTRACT"
      ]
    },
    {
      "cell_type": "code",
      "metadata": {
        "id": "i-vYmwigU1Zk",
        "colab_type": "code",
        "colab": {
          "base_uri": "https://localhost:8080/",
          "height": 173
        },
        "outputId": "35fea8d8-6947-4d0b-f249-71d62fbe3e7a"
      },
      "source": [
        "# Load in file from amazon aws url - OUTDOORS\n",
        "from pyspark import SparkFiles\n",
        "\n",
        "url = \"https://s3.amazonaws.com/amazon-reviews-pds/tsv/amazon_reviews_us_Outdoors_v1_00.tsv.gz\"\n",
        "spark.sparkContext.addFile(url)\n",
        "\n",
        "outdoors_df = spark.read.csv(SparkFiles.get(\"amazon_reviews_us_Outdoors_v1_00.tsv.gz\"),header= True, sep=\"\\t\",inferSchema=True, timestampFormat=\"yyyy-mm-dd\")\n",
        "\n",
        "# Show DataFrame\n",
        "outdoors_df.show(2, truncate=False)"
      ],
      "execution_count": 4,
      "outputs": [
        {
          "output_type": "stream",
          "text": [
            "+-----------+-----------+--------------+----------+--------------+---------------------------------------------------------+----------------+-----------+-------------+-----------+----+-----------------+---------------+------------------+-------------------+\n",
            "|marketplace|customer_id|review_id     |product_id|product_parent|product_title                                            |product_category|star_rating|helpful_votes|total_votes|vine|verified_purchase|review_headline|review_body       |review_date        |\n",
            "+-----------+-----------+--------------+----------+--------------+---------------------------------------------------------+----------------+-----------+-------------+-----------+----+-----------------+---------------+------------------+-------------------+\n",
            "|US         |18446823   |R35T75OLUGHL5C|B000NV6H94|110804376     |Stearns Youth Boating Vest (50-90 lbs.)                  |Outdoors        |4          |0            |0          |N   |Y                |Four Stars     |GOOD VALUE        |2015-01-31 00:08:00|\n",
            "|US         |13724367   |R2BV735O46BN33|B000IN0W3Y|624096774     |Primal Wear Men's Pink Floyd Dark Side of The Moon Jersey|Outdoors        |5          |0            |0          |N   |Y                |Five Stars     |Excellent quality.|2015-01-31 00:08:00|\n",
            "+-----------+-----------+--------------+----------+--------------+---------------------------------------------------------+----------------+-----------+-------------+-----------+----+-----------------+---------------+------------------+-------------------+\n",
            "only showing top 2 rows\n",
            "\n"
          ],
          "name": "stdout"
        }
      ]
    },
    {
      "cell_type": "markdown",
      "metadata": {
        "id": "p-WNcYXI0G9k",
        "colab_type": "text"
      },
      "source": [
        "**Number of records in the dataframe**"
      ]
    },
    {
      "cell_type": "code",
      "metadata": {
        "id": "qkXHO0hMtOeO",
        "colab_type": "code",
        "colab": {
          "base_uri": "https://localhost:8080/",
          "height": 34
        },
        "outputId": "6c258e76-aabc-4963-b457-a2f1e80f8a10"
      },
      "source": [
        "#Count the number of records (rows) in the dataset\n",
        "print(outdoors_df.count())"
      ],
      "execution_count": 5,
      "outputs": [
        {
          "output_type": "stream",
          "text": [
            "2302401\n"
          ],
          "name": "stdout"
        }
      ]
    },
    {
      "cell_type": "code",
      "metadata": {
        "id": "Cv1E2BKzyokP",
        "colab_type": "code",
        "colab": {
          "base_uri": "https://localhost:8080/",
          "height": 34
        },
        "outputId": "cadcd32b-8d2f-4eac-d1b9-d8cb58bc0242"
      },
      "source": [
        "# outdoors_df2 = outdoors_df.dropDuplicates()\n",
        "# print(outdoors_df2.count())\n",
        "\n",
        "#no hay duplicados"
      ],
      "execution_count": 8,
      "outputs": [
        {
          "output_type": "stream",
          "text": [
            "2302401\n"
          ],
          "name": "stdout"
        }
      ]
    },
    {
      "cell_type": "markdown",
      "metadata": {
        "id": "o9Jn41NMUZTU",
        "colab_type": "text"
      },
      "source": [
        "Examine the schema"
      ]
    },
    {
      "cell_type": "code",
      "metadata": {
        "id": "NH6bGVNDzqZ5",
        "colab_type": "code",
        "colab": {
          "base_uri": "https://localhost:8080/",
          "height": 306
        },
        "outputId": "691728bd-4b3c-4d93-c8a3-fe205fd46f44"
      },
      "source": [
        "outdoors_df.printSchema()"
      ],
      "execution_count": 6,
      "outputs": [
        {
          "output_type": "stream",
          "text": [
            "root\n",
            " |-- marketplace: string (nullable = true)\n",
            " |-- customer_id: integer (nullable = true)\n",
            " |-- review_id: string (nullable = true)\n",
            " |-- product_id: string (nullable = true)\n",
            " |-- product_parent: integer (nullable = true)\n",
            " |-- product_title: string (nullable = true)\n",
            " |-- product_category: string (nullable = true)\n",
            " |-- star_rating: integer (nullable = true)\n",
            " |-- helpful_votes: integer (nullable = true)\n",
            " |-- total_votes: integer (nullable = true)\n",
            " |-- vine: string (nullable = true)\n",
            " |-- verified_purchase: string (nullable = true)\n",
            " |-- review_headline: string (nullable = true)\n",
            " |-- review_body: string (nullable = true)\n",
            " |-- review_date: timestamp (nullable = true)\n",
            "\n"
          ],
          "name": "stdout"
        }
      ]
    },
    {
      "cell_type": "markdown",
      "metadata": {
        "id": "4s1_ETRXsDTW",
        "colab_type": "text"
      },
      "source": [
        "## TRANSFORM"
      ]
    },
    {
      "cell_type": "code",
      "metadata": {
        "id": "AFv5seOssCDu",
        "colab_type": "code",
        "colab": {
          "base_uri": "https://localhost:8080/",
          "height": 173
        },
        "outputId": "ccc86a77-1153-400e-d00f-509835fdfd0a"
      },
      "source": [
        "#Remove NA values\n",
        "outdoors_df2 = outdoors_df.dropna()\n",
        "outdoors_df2.show(2, truncate=False)"
      ],
      "execution_count": 7,
      "outputs": [
        {
          "output_type": "stream",
          "text": [
            "+-----------+-----------+--------------+----------+--------------+---------------------------------------------------------+----------------+-----------+-------------+-----------+----+-----------------+---------------+------------------+-------------------+\n",
            "|marketplace|customer_id|review_id     |product_id|product_parent|product_title                                            |product_category|star_rating|helpful_votes|total_votes|vine|verified_purchase|review_headline|review_body       |review_date        |\n",
            "+-----------+-----------+--------------+----------+--------------+---------------------------------------------------------+----------------+-----------+-------------+-----------+----+-----------------+---------------+------------------+-------------------+\n",
            "|US         |18446823   |R35T75OLUGHL5C|B000NV6H94|110804376     |Stearns Youth Boating Vest (50-90 lbs.)                  |Outdoors        |4          |0            |0          |N   |Y                |Four Stars     |GOOD VALUE        |2015-01-31 00:08:00|\n",
            "|US         |13724367   |R2BV735O46BN33|B000IN0W3Y|624096774     |Primal Wear Men's Pink Floyd Dark Side of The Moon Jersey|Outdoors        |5          |0            |0          |N   |Y                |Five Stars     |Excellent quality.|2015-01-31 00:08:00|\n",
            "+-----------+-----------+--------------+----------+--------------+---------------------------------------------------------+----------------+-----------+-------------+-----------+----+-----------------+---------------+------------------+-------------------+\n",
            "only showing top 2 rows\n",
            "\n"
          ],
          "name": "stdout"
        }
      ]
    },
    {
      "cell_type": "code",
      "metadata": {
        "id": "dmgfSM6Otenj",
        "colab_type": "code",
        "colab": {
          "base_uri": "https://localhost:8080/",
          "height": 34
        },
        "outputId": "626777fd-4717-4b33-d7d1-cf13f25548db"
      },
      "source": [
        "#Count the number of records (rows) in the dataset (without NA)\n",
        "print(outdoors_df2.count())"
      ],
      "execution_count": 8,
      "outputs": [
        {
          "output_type": "stream",
          "text": [
            "2302173\n"
          ],
          "name": "stdout"
        }
      ]
    },
    {
      "cell_type": "code",
      "metadata": {
        "id": "1hPMoWPDv7IR",
        "colab_type": "code",
        "colab": {
          "base_uri": "https://localhost:8080/",
          "height": 173
        },
        "outputId": "a5559584-e077-4521-8195-1f59081baaa3"
      },
      "source": [
        "#Change review_date column timestamp format to date\n",
        "from pyspark.sql.functions import col, to_date\n",
        "\n",
        "outdoors_df3 = outdoors_df2.withColumn(\"review_date\", to_date(col(\"review_date\"),\"yyyy-mm-dd\"))\n",
        "outdoors_df3.show(2, truncate=False)"
      ],
      "execution_count": 9,
      "outputs": [
        {
          "output_type": "stream",
          "text": [
            "+-----------+-----------+--------------+----------+--------------+---------------------------------------------------------+----------------+-----------+-------------+-----------+----+-----------------+---------------+------------------+-----------+\n",
            "|marketplace|customer_id|review_id     |product_id|product_parent|product_title                                            |product_category|star_rating|helpful_votes|total_votes|vine|verified_purchase|review_headline|review_body       |review_date|\n",
            "+-----------+-----------+--------------+----------+--------------+---------------------------------------------------------+----------------+-----------+-------------+-----------+----+-----------------+---------------+------------------+-----------+\n",
            "|US         |18446823   |R35T75OLUGHL5C|B000NV6H94|110804376     |Stearns Youth Boating Vest (50-90 lbs.)                  |Outdoors        |4          |0            |0          |N   |Y                |Four Stars     |GOOD VALUE        |2015-01-31 |\n",
            "|US         |13724367   |R2BV735O46BN33|B000IN0W3Y|624096774     |Primal Wear Men's Pink Floyd Dark Side of The Moon Jersey|Outdoors        |5          |0            |0          |N   |Y                |Five Stars     |Excellent quality.|2015-01-31 |\n",
            "+-----------+-----------+--------------+----------+--------------+---------------------------------------------------------+----------------+-----------+-------------+-----------+----+-----------------+---------------+------------------+-----------+\n",
            "only showing top 2 rows\n",
            "\n"
          ],
          "name": "stdout"
        }
      ]
    },
    {
      "cell_type": "markdown",
      "metadata": {
        "id": "5UT6j7XhWIay",
        "colab_type": "text"
      },
      "source": [
        "Create \"review_id_table\""
      ]
    },
    {
      "cell_type": "code",
      "metadata": {
        "id": "03SeNJ9FuDW9",
        "colab_type": "code",
        "colab": {
          "base_uri": "https://localhost:8080/",
          "height": 153
        },
        "outputId": "be14125f-e2d6-49bf-e837-dd6b994fbe04"
      },
      "source": [
        "#Create df to match \"review_id_table\"\n",
        "reviewID_outdoorsDF = outdoors_df3.select([\"review_id\",\"customer_id\",\"product_id\",\"product_parent\",\"review_date\"])\n",
        "reviewID_outdoorsDF.show(2, truncate=False)"
      ],
      "execution_count": 10,
      "outputs": [
        {
          "output_type": "stream",
          "text": [
            "+--------------+-----------+----------+--------------+-----------+\n",
            "|review_id     |customer_id|product_id|product_parent|review_date|\n",
            "+--------------+-----------+----------+--------------+-----------+\n",
            "|R35T75OLUGHL5C|18446823   |B000NV6H94|110804376     |2015-01-31 |\n",
            "|R2BV735O46BN33|13724367   |B000IN0W3Y|624096774     |2015-01-31 |\n",
            "+--------------+-----------+----------+--------------+-----------+\n",
            "only showing top 2 rows\n",
            "\n"
          ],
          "name": "stdout"
        }
      ]
    },
    {
      "cell_type": "code",
      "metadata": {
        "id": "VQUwSecw-NkJ",
        "colab_type": "code",
        "colab": {
          "base_uri": "https://localhost:8080/",
          "height": 136
        },
        "outputId": "82eb75a8-a35a-4b77-8937-9d39e3a39c9b"
      },
      "source": [
        "#Validate Schema matches the table established in postgres DB\n",
        "reviewID_outdoorsDF.printSchema()"
      ],
      "execution_count": 11,
      "outputs": [
        {
          "output_type": "stream",
          "text": [
            "root\n",
            " |-- review_id: string (nullable = true)\n",
            " |-- customer_id: integer (nullable = true)\n",
            " |-- product_id: string (nullable = true)\n",
            " |-- product_parent: integer (nullable = true)\n",
            " |-- review_date: date (nullable = true)\n",
            "\n"
          ],
          "name": "stdout"
        }
      ]
    },
    {
      "cell_type": "markdown",
      "metadata": {
        "id": "c03EC5eMWmS-",
        "colab_type": "text"
      },
      "source": [
        "Create \"products\" table"
      ]
    },
    {
      "cell_type": "code",
      "metadata": {
        "id": "kqSvrbny1HIg",
        "colab_type": "code",
        "colab": {
          "base_uri": "https://localhost:8080/",
          "height": 153
        },
        "outputId": "38a26bb2-4dc9-4117-c1d6-5324e999282d"
      },
      "source": [
        "#Create df to match \"products\" table\n",
        "products_outdoorsDF = outdoors_df3.select([\"product_id\",\"product_title\"])\n",
        "products_outdoorsDF.show(2, truncate=False)"
      ],
      "execution_count": 12,
      "outputs": [
        {
          "output_type": "stream",
          "text": [
            "+----------+---------------------------------------------------------+\n",
            "|product_id|product_title                                            |\n",
            "+----------+---------------------------------------------------------+\n",
            "|B000NV6H94|Stearns Youth Boating Vest (50-90 lbs.)                  |\n",
            "|B000IN0W3Y|Primal Wear Men's Pink Floyd Dark Side of The Moon Jersey|\n",
            "+----------+---------------------------------------------------------+\n",
            "only showing top 2 rows\n",
            "\n"
          ],
          "name": "stdout"
        }
      ]
    },
    {
      "cell_type": "code",
      "metadata": {
        "id": "XOkwjzPG4odu",
        "colab_type": "code",
        "colab": {
          "base_uri": "https://localhost:8080/",
          "height": 34
        },
        "outputId": "9bf14c44-e803-405a-f660-25c0a00c3447"
      },
      "source": [
        "#Drop duplicates to contain only unique values\n",
        "products_outdoorsDF = products_outdoorsDF.dropDuplicates()\n",
        "products_outdoorsDF.count()"
      ],
      "execution_count": 13,
      "outputs": [
        {
          "output_type": "execute_result",
          "data": {
            "text/plain": [
              "391700"
            ]
          },
          "metadata": {
            "tags": []
          },
          "execution_count": 13
        }
      ]
    },
    {
      "cell_type": "code",
      "metadata": {
        "id": "a5vgZFYs-W3s",
        "colab_type": "code",
        "colab": {
          "base_uri": "https://localhost:8080/",
          "height": 85
        },
        "outputId": "9118425f-7536-4842-94ed-cedc712cb3de"
      },
      "source": [
        "#Validate Schema matches the table established in postgres DB\n",
        "products_outdoorsDF.printSchema()"
      ],
      "execution_count": 14,
      "outputs": [
        {
          "output_type": "stream",
          "text": [
            "root\n",
            " |-- product_id: string (nullable = true)\n",
            " |-- product_title: string (nullable = true)\n",
            "\n"
          ],
          "name": "stdout"
        }
      ]
    },
    {
      "cell_type": "markdown",
      "metadata": {
        "id": "JItzKof3XZuE",
        "colab_type": "text"
      },
      "source": [
        "Create \"customers\" table"
      ]
    },
    {
      "cell_type": "code",
      "metadata": {
        "id": "j82Y1Toy8t7S",
        "colab_type": "code",
        "colab": {
          "base_uri": "https://localhost:8080/",
          "height": 153
        },
        "outputId": "c03a13e2-d00d-4fa6-e406-7d9d42c57bcc"
      },
      "source": [
        "#Create df to match \"customers\" table\n",
        "#First, create \"customer_count\" column\n",
        "customers_count = outdoors_df3.groupBy(\"customer_id\").count() #creates a df with 2 columns, \"customer_id\" and \"count\"\n",
        "\n",
        "customers_outdoorsDF = customers_count.withColumnRenamed(\"count\",\"customer_count\")\n",
        "customers_outdoorsDF.show(2,truncate= False)"
      ],
      "execution_count": 15,
      "outputs": [
        {
          "output_type": "stream",
          "text": [
            "+-----------+--------------+\n",
            "|customer_id|customer_count|\n",
            "+-----------+--------------+\n",
            "|43679767   |1             |\n",
            "|32024654   |1             |\n",
            "+-----------+--------------+\n",
            "only showing top 2 rows\n",
            "\n"
          ],
          "name": "stdout"
        }
      ]
    },
    {
      "cell_type": "code",
      "metadata": {
        "id": "nYbXYe7g-CTm",
        "colab_type": "code",
        "colab": {
          "base_uri": "https://localhost:8080/",
          "height": 85
        },
        "outputId": "2f0d1fdd-b351-4a6a-aa7d-d5f04ffc73f0"
      },
      "source": [
        "#Validate Schema matches the table established in postgres DB\n",
        "customers_outdoorsDF.printSchema()"
      ],
      "execution_count": 16,
      "outputs": [
        {
          "output_type": "stream",
          "text": [
            "root\n",
            " |-- customer_id: integer (nullable = true)\n",
            " |-- customer_count: long (nullable = false)\n",
            "\n"
          ],
          "name": "stdout"
        }
      ]
    },
    {
      "cell_type": "code",
      "metadata": {
        "id": "vhoLEnHSAn3b",
        "colab_type": "code",
        "colab": {
          "base_uri": "https://localhost:8080/",
          "height": 85
        },
        "outputId": "3371eb02-2b8e-4730-f79c-b04200e689a7"
      },
      "source": [
        "#Format customer_count column. Change from Long to Integer.\n",
        "from pyspark.sql.types import IntegerType\n",
        "\n",
        "customers_outdoorsDF = customers_outdoorsDF.withColumn(\"customer_count\",col(\"customer_count\").cast(IntegerType()))\n",
        "\n",
        "#Validate schema\n",
        "customers_outdoorsDF.printSchema()"
      ],
      "execution_count": 17,
      "outputs": [
        {
          "output_type": "stream",
          "text": [
            "root\n",
            " |-- customer_id: integer (nullable = true)\n",
            " |-- customer_count: integer (nullable = false)\n",
            "\n"
          ],
          "name": "stdout"
        }
      ]
    },
    {
      "cell_type": "markdown",
      "metadata": {
        "id": "8TysdXupZTv6",
        "colab_type": "text"
      },
      "source": [
        "Create \"vine\" table"
      ]
    },
    {
      "cell_type": "code",
      "metadata": {
        "id": "-ni2B0Gl9Fc4",
        "colab_type": "code",
        "colab": {
          "base_uri": "https://localhost:8080/",
          "height": 208
        },
        "outputId": "4204ccb8-a339-479b-9c12-c8e1f6486d30"
      },
      "source": [
        "#Create df to match \"vine\" table\n",
        "vine_outdoorsDF = outdoors_df3.select([\"review_id\",\"star_rating\",\"helpful_votes\",\"total_votes\",\"vine\"])\n",
        "vine_outdoorsDF.show(5, truncate=False)"
      ],
      "execution_count": 18,
      "outputs": [
        {
          "output_type": "stream",
          "text": [
            "+--------------+-----------+-------------+-----------+----+\n",
            "|review_id     |star_rating|helpful_votes|total_votes|vine|\n",
            "+--------------+-----------+-------------+-----------+----+\n",
            "|R35T75OLUGHL5C|4          |0            |0          |N   |\n",
            "|R2BV735O46BN33|5          |0            |0          |N   |\n",
            "|R2NBEUGPQQGXP1|4          |0            |0          |N   |\n",
            "|R17LLAOJ8ITK0S|3          |1            |1          |N   |\n",
            "|R39PEQBT5ISEF4|1          |0            |0          |N   |\n",
            "+--------------+-----------+-------------+-----------+----+\n",
            "only showing top 5 rows\n",
            "\n"
          ],
          "name": "stdout"
        }
      ]
    },
    {
      "cell_type": "code",
      "metadata": {
        "id": "RMidrbIP9uc1",
        "colab_type": "code",
        "colab": {
          "base_uri": "https://localhost:8080/",
          "height": 136
        },
        "outputId": "8d905dae-5bfd-40b7-eedf-65d5c46fc21d"
      },
      "source": [
        "#Validate Schema matches the table established in postgres DB\n",
        "vine_outdoorsDF.printSchema()"
      ],
      "execution_count": 19,
      "outputs": [
        {
          "output_type": "stream",
          "text": [
            "root\n",
            " |-- review_id: string (nullable = true)\n",
            " |-- star_rating: integer (nullable = true)\n",
            " |-- helpful_votes: integer (nullable = true)\n",
            " |-- total_votes: integer (nullable = true)\n",
            " |-- vine: string (nullable = true)\n",
            "\n"
          ],
          "name": "stdout"
        }
      ]
    },
    {
      "cell_type": "markdown",
      "metadata": {
        "id": "8XQRDh_aKKYh",
        "colab_type": "text"
      },
      "source": [
        "## LOAD"
      ]
    },
    {
      "cell_type": "markdown",
      "metadata": {
        "id": "HhG9To8lTjQs",
        "colab_type": "text"
      },
      "source": [
        "Postgres Setup"
      ]
    },
    {
      "cell_type": "code",
      "metadata": {
        "id": "1HGB6bWTKMmF",
        "colab_type": "code",
        "colab": {}
      },
      "source": [
        "# Configure settings for RDS\n",
        "\n",
        "mode = \"append\"\n",
        "jdbc_url=\"jdbc:postgresql://mypostgresdb.cw6xrdxbjex8.us-east-2.rds.amazonaws.com:5432/bigdataHW_db\" \n",
        "\n",
        "config = {\"user\":\"root\", \"password\":\"basededatos\", \"driver\":\"org.postgresql.Driver\"}"
      ],
      "execution_count": 20,
      "outputs": []
    },
    {
      "cell_type": "markdown",
      "metadata": {
        "id": "RzCbt9tBTgKO",
        "colab_type": "text"
      },
      "source": [
        "Write DataFrame to RDS"
      ]
    },
    {
      "cell_type": "code",
      "metadata": {
        "id": "QpZ2KF54O1kP",
        "colab_type": "code",
        "colab": {}
      },
      "source": [
        "# Write DataFrame to review_id_table table in RDS\n",
        "\n",
        "reviewID_outdoorsDF.write.jdbc(url=jdbc_url, table='review_id_table2', mode=mode, properties=config)"
      ],
      "execution_count": 22,
      "outputs": []
    },
    {
      "cell_type": "code",
      "metadata": {
        "id": "25bD1WOCO8U-",
        "colab_type": "code",
        "colab": {}
      },
      "source": [
        "# Write DataFrame to products table in RDS\n",
        "\n",
        "products_outdoorsDF.write.jdbc(url=jdbc_url, table='products2', mode=mode, properties=config)"
      ],
      "execution_count": 21,
      "outputs": []
    },
    {
      "cell_type": "code",
      "metadata": {
        "id": "zcisjsLhO9B8",
        "colab_type": "code",
        "colab": {}
      },
      "source": [
        "# Write DataFrame to customers table in RDS\n",
        "\n",
        "customers_outdoorsDF.write.jdbc(url=jdbc_url, table='customers2', mode=mode, properties=config)"
      ],
      "execution_count": 23,
      "outputs": []
    },
    {
      "cell_type": "code",
      "metadata": {
        "id": "8ejdJuJ-O-B_",
        "colab_type": "code",
        "colab": {}
      },
      "source": [
        "# Write DataFrame to vine_table table in RDS\n",
        "\n",
        "vine_outdoorsDF.write.jdbc(url=jdbc_url, table='vine_table2', mode=mode, properties=config)"
      ],
      "execution_count": 24,
      "outputs": []
    }
  ]
}